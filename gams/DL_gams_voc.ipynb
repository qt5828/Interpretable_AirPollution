{
 "cells": [
  {
   "cell_type": "code",
   "execution_count": 1,
   "metadata": {},
   "outputs": [],
   "source": [
    "import pandas as pd\n",
    "import numpy as np\n",
    "from torch.utils.data import DataLoader\n",
    "\n",
    "import lime\n",
    "\n",
    "import matplotlib.pyplot as plt\n",
    "import os \n",
    "import sys\n",
    "import random\n",
    "import warnings\n",
    "\n",
    "import torch\n",
    "\n",
    "\n",
    "warnings.filterwarnings(\"ignore\")\n",
    "\n",
    "SEED_VALUE = 100\n",
    "os.environ['PYTHONHASHSEED'] = str(SEED_VALUE)\n",
    "random.seed(SEED_VALUE)\n",
    "np.random.seed(SEED_VALUE)\n",
    "torch.manual_seed(SEED_VALUE)\n",
    "torch.cuda.manual_seed(SEED_VALUE)\n",
    "torch.cuda.manual_seed_all(SEED_VALUE)\n",
    "\n",
    "\n",
    "torch.backends.cudnn.deterministic = True\n",
    "torch.backends.cudnn.benchmark = False"
   ]
  },
  {
   "cell_type": "code",
   "execution_count": 2,
   "metadata": {},
   "outputs": [
    {
     "data": {
      "text/plain": [
       "<torch._C.Generator at 0x7f072cf55d70>"
      ]
     },
     "execution_count": 2,
     "metadata": {},
     "output_type": "execute_result"
    }
   ],
   "source": [
    "def seed_worker(worker_id):\n",
    "    worker_seed = torch.initial_seed() % 2**32\n",
    "    np.random.seed(worker_seed)\n",
    "    random.seed(worker_seed)\n",
    "    \n",
    "g = torch.Generator()\n",
    "g.manual_seed(0)"
   ]
  },
  {
   "attachments": {},
   "cell_type": "markdown",
   "metadata": {},
   "source": [
    "# city pollution data"
   ]
  },
  {
   "cell_type": "code",
   "execution_count": 3,
   "metadata": {},
   "outputs": [],
   "source": [
    "time_series_data = pd.read_csv(\"./data/gams_indoor.csv\")\n",
    "\n",
    "\n",
    "DROP_ONEHOT = True\n",
    "SEQ_LENGTH = 7\n",
    "\n",
    "\n",
    "if DROP_ONEHOT:\n",
    "  INPUT_DIM = 2\n",
    "# else:\n",
    "#   INPUT_DIM = 29\n",
    "\n",
    "HIDDEN_DIM = 32\n",
    "LAYER_DIM = 3\n",
    "\n",
    "\n",
    "normalization_type = 'mean_std' # 'max', mean_std"
   ]
  },
  {
   "cell_type": "code",
   "execution_count": 4,
   "metadata": {},
   "outputs": [
    {
     "name": "stdout",
     "output_type": "stream",
     "text": [
      "Train data:                          ts    co2  humidity  pm10  pm25  temperature    voc\n",
      "0       2016-11-21 00:47:03  708.0     72.09  10.2   9.0        20.83  0.062\n",
      "1       2016-11-21 00:48:03  694.0     70.95  10.9  10.1        21.01  0.062\n",
      "2       2016-11-21 00:49:03  693.0     69.12  10.2   9.9        21.20  0.062\n",
      "3       2016-11-21 00:50:03  692.0     68.83   9.6   9.6        21.37  0.062\n",
      "4       2016-11-21 00:51:03  690.0     68.60   9.4   8.4        21.49  0.062\n",
      "...                     ...    ...       ...   ...   ...          ...    ...\n",
      "108074  2017-03-09 14:22:02  626.0     33.61  37.8  33.9        24.16  0.062\n",
      "108075  2017-03-09 14:23:02  627.0     33.65  35.9  33.8        24.15  0.062\n",
      "108076  2017-03-09 14:24:02  625.0     33.65  37.3  33.2        24.14  0.062\n",
      "108077  2017-03-09 14:25:02  625.0     33.56  37.0  33.4        24.18  0.062\n",
      "108078  2017-03-09 14:26:02  624.0     33.54  38.5  34.1        24.21  0.063\n",
      "\n",
      "[108079 rows x 7 columns]\n",
      "Test data:                          ts     co2  humidity  pm10  pm25  temperature    voc\n",
      "108079  2017-03-09 14:27:02   623.0     33.46  37.4  34.1        24.27  0.062\n",
      "108080  2017-03-09 14:28:02   622.0     33.46  40.1  35.2        24.26  0.062\n",
      "108081  2017-03-09 14:30:02   617.0     33.46  36.5  32.1        24.24  0.065\n",
      "108082  2017-03-09 14:31:02   618.0     33.54  34.3  31.5        24.22  0.062\n",
      "108083  2017-03-09 14:32:02   615.0     33.52  35.5  32.4        24.20  0.063\n",
      "...                     ...     ...       ...   ...   ...          ...    ...\n",
      "135094  2017-03-28 09:26:03  1359.0     39.55   6.3   4.4        26.93  0.148\n",
      "135095  2017-03-28 09:27:03  1350.0     39.49   5.6   4.2        26.92  0.152\n",
      "135096  2017-03-28 09:28:03  1353.0     39.42   6.3   4.6        26.91  0.147\n",
      "135097  2017-03-28 09:29:03  1348.0     39.55   5.7   4.3        26.92  0.148\n",
      "135098  2017-03-28 09:30:03  1363.0     39.55   5.8   4.2        26.90  0.139\n",
      "\n",
      "[27020 rows x 7 columns]\n"
     ]
    }
   ],
   "source": [
    "import pandas as pd\n",
    "\n",
    "# 데이터를 시간 순서대로 정렬합니다.\n",
    "time_series_data = time_series_data.sort_values(by='ts')\n",
    "\n",
    "# 훈련 데이터와 테스트 데이터의 기간을 결정합니다.\n",
    "train_end_time = '2017-03-09 14:26:02'\n",
    "test_start_time = '2017-03-09 14:27:02'\n",
    "\n",
    "# 기준 시간을 기준으로 데이터를 분할합니다.\n",
    "train_data = time_series_data[time_series_data['ts'] <= train_end_time]\n",
    "test_data = time_series_data[time_series_data['ts'] >= test_start_time]\n",
    "\n",
    "print(\"Train data:\", train_data)\n",
    "print(\"Test data:\", test_data)"
   ]
  },
  {
   "cell_type": "code",
   "execution_count": 5,
   "metadata": {},
   "outputs": [
    {
     "name": "stdout",
     "output_type": "stream",
     "text": [
      "        humidity  temperature    voc\n",
      "0          72.09        20.83  0.062\n",
      "1          70.95        21.01  0.062\n",
      "2          69.12        21.20  0.062\n",
      "3          68.83        21.37  0.062\n",
      "4          68.60        21.49  0.062\n",
      "...          ...          ...    ...\n",
      "108074     33.61        24.16  0.062\n",
      "108075     33.65        24.15  0.062\n",
      "108076     33.65        24.14  0.062\n",
      "108077     33.56        24.18  0.062\n",
      "108078     33.54        24.21  0.063\n",
      "\n",
      "[108079 rows x 3 columns]\n"
     ]
    }
   ],
   "source": [
    "features = ['humidity','temperature']\n",
    "SELECTED_COLUMN = \"voc\" # ['co2','pm10','pm25','voc']\n",
    "train_data = train_data[features + [SELECTED_COLUMN]]\n",
    "test_data = test_data[features + [SELECTED_COLUMN]]\n",
    "\n",
    "print(train_data)"
   ]
  },
  {
   "cell_type": "code",
   "execution_count": 6,
   "metadata": {},
   "outputs": [],
   "source": [
    "class GamsIndoor(torch.utils.data.Dataset):\n",
    "  def __init__(self, data, selected_column, seq_length):\n",
    "    self.selected_column = selected_column\n",
    "    self.data = data \n",
    "    self.seq_length = seq_length\n",
    "\n",
    "  def __getitem__(self, idx):\n",
    "    seq = self.data[features][idx:idx+self.seq_length]\n",
    "    target = self.data[SELECTED_COLUMN][idx:idx+self.seq_length]\n",
    "    return torch.tensor(seq.values, dtype=torch.float32), torch.tensor(target.values, dtype=torch.float32)\n",
    "\n",
    "  def __len__(self):\n",
    "    return len(self.data) - self.seq_length\n"
   ]
  },
  {
   "attachments": {},
   "cell_type": "markdown",
   "metadata": {},
   "source": [
    "data pre-processing"
   ]
  },
  {
   "cell_type": "code",
   "execution_count": 7,
   "metadata": {},
   "outputs": [],
   "source": [
    "# function that implement the look_ahead mask for masking future time steps. \n",
    "def create_look_ahead_mask(size, device):\n",
    "    mask = torch.ones((size, size), device=device)\n",
    "    mask = torch.triu(mask, diagonal=1)\n",
    "    return mask  # (size, size)"
   ]
  },
  {
   "attachments": {},
   "cell_type": "markdown",
   "metadata": {},
   "source": [
    "# Model fitting"
   ]
  },
  {
   "cell_type": "code",
   "execution_count": 8,
   "metadata": {},
   "outputs": [],
   "source": [
    "from models import *\n",
    "from torch import nn\n",
    "from torch import optim\n",
    "import torch\n",
    "\n",
    "device=\"cuda\"\n",
    "\n",
    "# Evaluation\n",
    "def evaluation(testLoader, model, model_name, LUR, SELECTED_COLUMN, mask=False):\n",
    "    model.to(device)\n",
    "    model.eval()\n",
    "    mse_list = []\n",
    "    total_se = 0.0\n",
    "    total_pe = 0.0\n",
    "    total_valid = 0.0\n",
    "\n",
    "    for x_val, y_val in testLoader:\n",
    "        x_val, y_val = [t.cuda().float() for t in (x_val, y_val)]\n",
    "        \n",
    "        if mask:\n",
    "            masking = create_look_ahead_mask(x_val.shape[1], device)\n",
    "            out, _ = model(x_val.to(device), masking)\n",
    "        else:\n",
    "            out = model(x_val.to(device))\n",
    "\n",
    "        if LUR :\n",
    "            ytrue = y_val.squeeze().cpu().numpy()\n",
    "            ypred = out.squeeze().cpu().detach().numpy()\n",
    "        else:\n",
    "            ytrue = y_val.squeeze().cpu().numpy()\n",
    "            ypred = out.squeeze().cpu().detach().numpy()\n",
    "        true_valid = np.isnan(ytrue) != 1\n",
    "        ytrue = ytrue[true_valid] #np.nan_to_num(ytrue, 0)\n",
    "        ypred = ypred[true_valid]\n",
    "\n",
    "        se = (ytrue - ypred)**2 # np.square(ytrue - ypred)\n",
    "        pe = np.abs((ytrue - ypred) / (ytrue + 0.0001))\n",
    "        total_se += np.sum(se)\n",
    "        total_pe += np.sum(pe)\n",
    "        total_valid += np.sum(true_valid)\n",
    "\n",
    "    eval_mse = total_se / total_valid # np.mean(se) # \n",
    "    eval_mape = total_pe / total_valid # np.mean(pe) # \n",
    "    print('valid samples:', total_valid)\n",
    "    print('Eval MSE: ', eval_mse)\n",
    "    print('Eval RMSE: {}: '.format(SELECTED_COLUMN), np.sqrt(eval_mse))\n",
    "    print('Eval MAPE: {}: '.format(SELECTED_COLUMN), eval_mape*100)\n",
    "    \n",
    "    return eval_mse, eval_mape*100\n",
    "\n",
    "\n",
    "# Train\n",
    "def train(trainLoader, testLoader, model, model_name, SELECTED_COLUMN, mask=False, LUR=False, l1=False, l2=False):\n",
    "\n",
    "    lr = 0.001\n",
    "    n_epochs = 10   \n",
    "    \n",
    "    model.to(device)\n",
    "\n",
    "    criterion = nn.MSELoss()\n",
    "    \n",
    "    # LUR\n",
    "    if LUR:\n",
    "        print(\"set l1,l2 loss\")\n",
    "        l1_lmbda = 0.01\n",
    "        l1_lmbda = torch.FloatTensor([l1_lmbda]).cuda()\n",
    "        l1_reg = torch.tensor(0., requires_grad=True).to(device)\n",
    "        l2_lmbda = 0.01\n",
    "        l2_lmbda = torch.FloatTensor([l2_lmbda]).cuda()\n",
    "        l2_reg = torch.tensor(0., requires_grad=True).to(device)\n",
    "        opt = torch.optim.Adam(model.parameters(), lr=lr)\n",
    "            \n",
    "    # DL\n",
    "    else:\n",
    "        print(\"set SoftDTW loss\")\n",
    "        lmbda = 0.5\n",
    "        dtw_loss = SoftDTW(use_cuda=True, gamma=0.1)\n",
    "        opt = torch.optim.Adam(model.parameters(), lr=lr)\n",
    "    \n",
    "      \n",
    "    print('Start ' + model_name + ' training')\n",
    "    best_mse = 2000.0\n",
    "    mape = 2000.0\n",
    "    best_model = None\n",
    "    \n",
    "\n",
    "    for epoch in range(1, n_epochs + 1):\n",
    "        # print(\"start epoch\")\n",
    "        epoch_loss = 0\n",
    "        batch_idx = 0\n",
    "        bar = tqdm(trainLoader)\n",
    "        # print(\"start tqdm\")\n",
    "        model.train()\n",
    "        # print(\"start batch before\")\n",
    "        for x_batch, y_batch in bar:\n",
    "            # print(\"start batch\")\n",
    "            model.train()\n",
    "            x_batch = x_batch.cuda().float()\n",
    "            y_batch = y_batch.cuda().float()\n",
    "\n",
    "            # print(\"start mask\")\n",
    "            if mask==True:\n",
    "                masking = create_look_ahead_mask(x_batch.shape[1], device)\n",
    "                out, _ = model(x_batch.to(device), masking)\n",
    "            else :\n",
    "                out = model(x_batch.to(device))\n",
    "            opt.zero_grad()\n",
    "            \n",
    "            # print(\"start loss\")\n",
    "            if LUR:\n",
    "                # LASSO\n",
    "                if l1==True and l2==False:\n",
    "                    l1_reg = torch.norm(model.linear.weight, p=1)\n",
    "                    loss = criterion(out, y_batch.unsqueeze(2)) + l1_lmbda * l1_reg\n",
    "                # Ridge\n",
    "                elif l1==False and l2==True:\n",
    "                    l2_reg = torch.norm(model.linear.weight, p=2)\n",
    "                    loss = criterion(out, y_batch.unsqueeze(2)) + l2_lmbda * l2_reg\n",
    "                # Elastic\n",
    "                elif l1==True and l2==True:\n",
    "                    l1_reg = torch.norm(model.linear.weight, p=1)\n",
    "                    l2_reg = torch.norm(model.linear.weight, p=2)\n",
    "                    loss = criterion(out, y_batch.unsqueeze(2)) + l1_lmbda * l1_reg + l2_lmbda * l2_reg\n",
    "                # OLS\n",
    "                else:\n",
    "                    loss = criterion(out, y_batch.unsqueeze(2))\n",
    "            else:\n",
    "                # print(out.shape)\n",
    "                # print(y_batch.shape)\n",
    "                # print(y_batch.unsqueeze(2).shape)\n",
    "                loss = criterion(out, y_batch.unsqueeze(2)) + lmbda * dtw_loss(out.cuda(),y_batch.unsqueeze(2).cuda()).mean()\n",
    "\n",
    "            epoch_loss = (epoch_loss*batch_idx + loss.item())/(batch_idx+1)\n",
    "            loss.backward(retain_graph=True)\n",
    "            opt.step()\n",
    "\n",
    "            bar.set_description(str(epoch_loss))\n",
    "            batch_idx += 1\n",
    "\n",
    "        eval_mse, eval_mape = evaluation(testLoader, model, model_name, LUR, SELECTED_COLUMN, mask)\n",
    "        \n",
    "\n",
    "        if eval_mse < best_mse:\n",
    "            best_model = deepcopy(model)\n",
    "            best_mse = eval_mse\n",
    "            mape = eval_mape\n",
    "            torch.save(best_model.state_dict(), \"./save_gams/\"+SELECTED_COLUMN+\"/\"+model_name+\".pth\")\n",
    "      \n",
    "    print(model_name)   \n",
    "    print(\"Best MSE :\", best_mse)\n",
    "    print(\"RMSE :\", np.sqrt(best_mse))\n",
    "    print(\"MAPE :\", mape)\n",
    "    print()\n"
   ]
  },
  {
   "cell_type": "code",
   "execution_count": 9,
   "metadata": {},
   "outputs": [],
   "source": [
    "from models import *\n",
    "from loss_utils import *\n",
    "\n",
    "\n",
    "train_data = GamsIndoor(train_data, SELECTED_COLUMN, SEQ_LENGTH)\n",
    "test_data = GamsIndoor(test_data, SELECTED_COLUMN, SEQ_LENGTH)\n",
    "trainLoader = DataLoader(train_data, batch_size=32, shuffle=True, num_workers=4, worker_init_fn=seed_worker, generator=g)\n",
    "testLoader = DataLoader(test_data, batch_size=4096, shuffle=False, num_workers=4, worker_init_fn=seed_worker, generator=g)"
   ]
  },
  {
   "cell_type": "code",
   "execution_count": 10,
   "metadata": {},
   "outputs": [
    {
     "name": "stdout",
     "output_type": "stream",
     "text": [
      "set SoftDTW loss\n",
      "Start Transformer training\n"
     ]
    },
    {
     "name": "stderr",
     "output_type": "stream",
     "text": [
      "-0.4043878261518241: 100%|██████████| 3378/3378 [02:07<00:00, 26.58it/s] \n"
     ]
    },
    {
     "name": "stdout",
     "output_type": "stream",
     "text": [
      "valid samples: 189091.0\n",
      "Eval MSE:  0.00953760803804632\n",
      "Eval RMSE: voc:  0.09766067805440591\n",
      "Eval MAPE: voc:  54.553368876460276\n"
     ]
    },
    {
     "name": "stderr",
     "output_type": "stream",
     "text": [
      "-0.4076497060720421: 100%|██████████| 3378/3378 [02:04<00:00, 27.19it/s] \n"
     ]
    },
    {
     "name": "stdout",
     "output_type": "stream",
     "text": [
      "valid samples: 189091.0\n",
      "Eval MSE:  0.009683771902702951\n",
      "Eval RMSE: voc:  0.09840615784951139\n",
      "Eval MAPE: voc:  51.10096110305356\n"
     ]
    },
    {
     "name": "stderr",
     "output_type": "stream",
     "text": [
      "-0.4077001606495231: 100%|██████████| 3378/3378 [02:06<00:00, 26.67it/s] \n"
     ]
    },
    {
     "name": "stdout",
     "output_type": "stream",
     "text": [
      "valid samples: 189091.0\n",
      "Eval MSE:  0.00985161206623042\n",
      "Eval RMSE: voc:  0.09925528734647046\n",
      "Eval MAPE: voc:  49.143149567784164\n"
     ]
    },
    {
     "name": "stderr",
     "output_type": "stream",
     "text": [
      "-0.4078755479387592: 100%|██████████| 3378/3378 [02:05<00:00, 26.82it/s] \n"
     ]
    },
    {
     "name": "stdout",
     "output_type": "stream",
     "text": [
      "valid samples: 189091.0\n",
      "Eval MSE:  0.009563669490706783\n",
      "Eval RMSE: voc:  0.09779401561806726\n",
      "Eval MAPE: voc:  54.1129910458126\n"
     ]
    },
    {
     "name": "stderr",
     "output_type": "stream",
     "text": [
      "-0.40804507104760435: 100%|██████████| 3378/3378 [02:05<00:00, 26.93it/s]\n"
     ]
    },
    {
     "name": "stdout",
     "output_type": "stream",
     "text": [
      "valid samples: 189091.0\n",
      "Eval MSE:  0.010213318138195789\n",
      "Eval RMSE: voc:  0.1010609624840165\n",
      "Eval MAPE: voc:  45.98851534694274\n"
     ]
    },
    {
     "name": "stderr",
     "output_type": "stream",
     "text": [
      "-0.40788187787969005: 100%|██████████| 3378/3378 [02:04<00:00, 27.18it/s]\n"
     ]
    },
    {
     "name": "stdout",
     "output_type": "stream",
     "text": [
      "valid samples: 189091.0\n",
      "Eval MSE:  0.00999755771013449\n",
      "Eval RMSE: voc:  0.09998778780498392\n",
      "Eval MAPE: voc:  48.94551071392213\n"
     ]
    },
    {
     "name": "stderr",
     "output_type": "stream",
     "text": [
      "-0.4078109896504152: 100%|██████████| 3378/3378 [02:05<00:00, 26.85it/s] \n"
     ]
    },
    {
     "name": "stdout",
     "output_type": "stream",
     "text": [
      "valid samples: 189091.0\n",
      "Eval MSE:  0.009611939449104429\n",
      "Eval RMSE: voc:  0.09804049902517036\n",
      "Eval MAPE: voc:  55.40433615626868\n"
     ]
    },
    {
     "name": "stderr",
     "output_type": "stream",
     "text": [
      "-0.4081259665667762: 100%|██████████| 3378/3378 [02:05<00:00, 26.97it/s] \n"
     ]
    },
    {
     "name": "stdout",
     "output_type": "stream",
     "text": [
      "valid samples: 189091.0\n",
      "Eval MSE:  0.009655743497710551\n",
      "Eval RMSE: voc:  0.09826364280704512\n",
      "Eval MAPE: voc:  52.80638041629096\n"
     ]
    },
    {
     "name": "stderr",
     "output_type": "stream",
     "text": [
      "-0.40823740404057346: 100%|██████████| 3378/3378 [01:58<00:00, 28.47it/s]\n"
     ]
    },
    {
     "name": "stdout",
     "output_type": "stream",
     "text": [
      "valid samples: 189091.0\n",
      "Eval MSE:  0.009562080717743199\n",
      "Eval RMSE: voc:  0.09778589222246326\n",
      "Eval MAPE: voc:  50.93178877415504\n"
     ]
    },
    {
     "name": "stderr",
     "output_type": "stream",
     "text": [
      "-0.40831162048698916: 100%|██████████| 3378/3378 [01:59<00:00, 28.32it/s]\n"
     ]
    },
    {
     "name": "stdout",
     "output_type": "stream",
     "text": [
      "valid samples: 189091.0\n",
      "Eval MSE:  0.010137064702014392\n",
      "Eval RMSE: voc:  0.10068299112568316\n",
      "Eval MAPE: voc:  44.88729033739046\n",
      "Transformer\n",
      "Best MSE : 0.00953760803804632\n",
      "RMSE : 0.09766067805440591\n",
      "MAPE : 54.553368876460276\n",
      "\n",
      "set SoftDTW loss\n",
      "Start CosFormer training\n"
     ]
    },
    {
     "name": "stderr",
     "output_type": "stream",
     "text": [
      "-0.4025616601259487: 100%|██████████| 3378/3378 [02:59<00:00, 18.78it/s] \n"
     ]
    },
    {
     "name": "stdout",
     "output_type": "stream",
     "text": [
      "valid samples: 189091.0\n",
      "Eval MSE:  0.009284936730695772\n",
      "Eval RMSE: voc:  0.09635837654659699\n",
      "Eval MAPE: voc:  60.078287062346966\n"
     ]
    },
    {
     "name": "stderr",
     "output_type": "stream",
     "text": [
      "-0.40750146373585877: 100%|██████████| 3378/3378 [03:02<00:00, 18.48it/s]\n"
     ]
    },
    {
     "name": "stdout",
     "output_type": "stream",
     "text": [
      "valid samples: 189091.0\n",
      "Eval MSE:  0.009355598010441184\n",
      "Eval RMSE: voc:  0.0967243403205273\n",
      "Eval MAPE: voc:  57.25856697304472\n"
     ]
    },
    {
     "name": "stderr",
     "output_type": "stream",
     "text": [
      "-0.40777640276720284: 100%|██████████| 3378/3378 [03:02<00:00, 18.56it/s]\n"
     ]
    },
    {
     "name": "stdout",
     "output_type": "stream",
     "text": [
      "valid samples: 189091.0\n",
      "Eval MSE:  0.009450515907735014\n",
      "Eval RMSE: voc:  0.09721376398296186\n",
      "Eval MAPE: voc:  55.995707754467425\n"
     ]
    },
    {
     "name": "stderr",
     "output_type": "stream",
     "text": [
      "-0.4079894991519892: 100%|██████████| 3378/3378 [03:02<00:00, 18.47it/s] \n"
     ]
    },
    {
     "name": "stdout",
     "output_type": "stream",
     "text": [
      "valid samples: 189091.0\n",
      "Eval MSE:  0.009698076407189476\n",
      "Eval RMSE: voc:  0.0984788119708472\n",
      "Eval MAPE: voc:  50.885738381255585\n"
     ]
    },
    {
     "name": "stderr",
     "output_type": "stream",
     "text": [
      "-0.40816104232982564: 100%|██████████| 3378/3378 [03:02<00:00, 18.52it/s]\n"
     ]
    },
    {
     "name": "stdout",
     "output_type": "stream",
     "text": [
      "valid samples: 189091.0\n",
      "Eval MSE:  0.0102140367818824\n",
      "Eval RMSE: voc:  0.10106451791742936\n",
      "Eval MAPE: voc:  44.602749552464154\n"
     ]
    },
    {
     "name": "stderr",
     "output_type": "stream",
     "text": [
      "-0.40824163747899533: 100%|██████████| 3378/3378 [03:03<00:00, 18.42it/s]\n"
     ]
    },
    {
     "name": "stdout",
     "output_type": "stream",
     "text": [
      "valid samples: 189091.0\n",
      "Eval MSE:  0.010458242033875173\n",
      "Eval RMSE: voc:  0.1022655466610098\n",
      "Eval MAPE: voc:  41.883213224717196\n"
     ]
    },
    {
     "name": "stderr",
     "output_type": "stream",
     "text": [
      "-0.40832251537968395: 100%|██████████| 3378/3378 [02:59<00:00, 18.77it/s]\n"
     ]
    },
    {
     "name": "stdout",
     "output_type": "stream",
     "text": [
      "valid samples: 189091.0\n",
      "Eval MSE:  0.00943618318000426\n",
      "Eval RMSE: voc:  0.09714001842703274\n",
      "Eval MAPE: voc:  53.76556924394207\n"
     ]
    },
    {
     "name": "stderr",
     "output_type": "stream",
     "text": [
      "-0.40819683360446474: 100%|██████████| 3378/3378 [03:01<00:00, 18.57it/s]\n"
     ]
    },
    {
     "name": "stdout",
     "output_type": "stream",
     "text": [
      "valid samples: 189091.0\n",
      "Eval MSE:  0.009790553024118255\n",
      "Eval RMSE: voc:  0.09894722342803892\n",
      "Eval MAPE: voc:  51.34479366498802\n"
     ]
    },
    {
     "name": "stderr",
     "output_type": "stream",
     "text": [
      "-0.4084028092501357: 100%|██████████| 3378/3378 [03:02<00:00, 18.52it/s] \n"
     ]
    },
    {
     "name": "stdout",
     "output_type": "stream",
     "text": [
      "valid samples: 189091.0\n",
      "Eval MSE:  0.009906559888316603\n",
      "Eval RMSE: voc:  0.09953170293085818\n",
      "Eval MAPE: voc:  46.71552378178694\n"
     ]
    },
    {
     "name": "stderr",
     "output_type": "stream",
     "text": [
      "-0.40840020252622183: 100%|██████████| 3378/3378 [03:02<00:00, 18.52it/s]\n"
     ]
    },
    {
     "name": "stdout",
     "output_type": "stream",
     "text": [
      "valid samples: 189091.0\n",
      "Eval MSE:  0.009897816149724233\n",
      "Eval RMSE: voc:  0.09948776884483958\n",
      "Eval MAPE: voc:  47.257557001324756\n",
      "CosFormer\n",
      "Best MSE : 0.009284936730695772\n",
      "RMSE : 0.09635837654659699\n",
      "MAPE : 60.078287062346966\n",
      "\n",
      "set SoftDTW loss\n",
      "Start CosSquareFormer training\n"
     ]
    },
    {
     "name": "stderr",
     "output_type": "stream",
     "text": [
      "-0.4084241979481409: 100%|██████████| 3378/3378 [03:00<00:00, 18.76it/s] \n"
     ]
    },
    {
     "name": "stdout",
     "output_type": "stream",
     "text": [
      "valid samples: 189091.0\n",
      "Eval MSE:  0.00980911629309841\n",
      "Eval RMSE: voc:  0.0990409828964677\n",
      "Eval MAPE: voc:  48.57521632689419\n"
     ]
    },
    {
     "name": "stderr",
     "output_type": "stream",
     "text": [
      "-0.40827131528978605: 100%|██████████| 3378/3378 [03:02<00:00, 18.48it/s]\n"
     ]
    },
    {
     "name": "stdout",
     "output_type": "stream",
     "text": [
      "valid samples: 189091.0\n",
      "Eval MSE:  0.009843882568955875\n",
      "Eval RMSE: voc:  0.09921634224741344\n",
      "Eval MAPE: voc:  49.205947436105504\n"
     ]
    },
    {
     "name": "stderr",
     "output_type": "stream",
     "text": [
      "-0.4084945822199681: 100%|██████████| 3378/3378 [03:11<00:00, 17.63it/s] \n"
     ]
    },
    {
     "name": "stdout",
     "output_type": "stream",
     "text": [
      "valid samples: 189091.0\n",
      "Eval MSE:  0.009743124215233226\n",
      "Eval RMSE: voc:  0.09870726526063432\n",
      "Eval MAPE: voc:  49.20250374034526\n"
     ]
    },
    {
     "name": "stderr",
     "output_type": "stream",
     "text": [
      "-0.4085471252494485: 100%|██████████| 3378/3378 [03:13<00:00, 17.49it/s] \n"
     ]
    },
    {
     "name": "stdout",
     "output_type": "stream",
     "text": [
      "valid samples: 189091.0\n",
      "Eval MSE:  0.009902730736473072\n",
      "Eval RMSE: voc:  0.09951246523161343\n",
      "Eval MAPE: voc:  47.29337675667734\n"
     ]
    },
    {
     "name": "stderr",
     "output_type": "stream",
     "text": [
      "-0.40863406539951436: 100%|██████████| 3378/3378 [03:12<00:00, 17.58it/s]\n"
     ]
    },
    {
     "name": "stdout",
     "output_type": "stream",
     "text": [
      "valid samples: 189091.0\n",
      "Eval MSE:  0.009903323263210933\n",
      "Eval RMSE: voc:  0.09951544233540306\n",
      "Eval MAPE: voc:  47.76827650112909\n"
     ]
    },
    {
     "name": "stderr",
     "output_type": "stream",
     "text": [
      "-0.40866263284000043: 100%|██████████| 3378/3378 [03:01<00:00, 18.65it/s]\n"
     ]
    },
    {
     "name": "stdout",
     "output_type": "stream",
     "text": [
      "valid samples: 189091.0\n",
      "Eval MSE:  0.01023353292087545\n",
      "Eval RMSE: voc:  0.10116092586011385\n",
      "Eval MAPE: voc:  43.76098413966357\n"
     ]
    },
    {
     "name": "stderr",
     "output_type": "stream",
     "text": [
      "-0.40864178178365446: 100%|██████████| 3378/3378 [03:08<00:00, 17.97it/s]\n"
     ]
    },
    {
     "name": "stdout",
     "output_type": "stream",
     "text": [
      "valid samples: 189091.0\n",
      "Eval MSE:  0.010210819200910076\n",
      "Eval RMSE: voc:  0.10104859821348378\n",
      "Eval MAPE: voc:  43.49800183013734\n"
     ]
    },
    {
     "name": "stderr",
     "output_type": "stream",
     "text": [
      "-0.4086707013026719: 100%|██████████| 3378/3378 [03:00<00:00, 18.76it/s] \n"
     ]
    },
    {
     "name": "stdout",
     "output_type": "stream",
     "text": [
      "valid samples: 189091.0\n",
      "Eval MSE:  0.00947087386437057\n",
      "Eval RMSE: voc:  0.09731841482664301\n",
      "Eval MAPE: voc:  53.840334316546\n"
     ]
    },
    {
     "name": "stderr",
     "output_type": "stream",
     "text": [
      "-0.4085015633037069: 100%|██████████| 3378/3378 [02:58<00:00, 18.92it/s] \n"
     ]
    },
    {
     "name": "stdout",
     "output_type": "stream",
     "text": [
      "valid samples: 189091.0\n",
      "Eval MSE:  0.009752866197264457\n",
      "Eval RMSE: voc:  0.09875660077819841\n",
      "Eval MAPE: voc:  48.1533635962645\n"
     ]
    },
    {
     "name": "stderr",
     "output_type": "stream",
     "text": [
      "-0.40858424822383577: 100%|██████████| 3378/3378 [03:00<00:00, 18.72it/s]\n"
     ]
    },
    {
     "name": "stdout",
     "output_type": "stream",
     "text": [
      "valid samples: 189091.0\n",
      "Eval MSE:  0.010115326600492594\n",
      "Eval RMSE: voc:  0.10057497999250407\n",
      "Eval MAPE: voc:  44.207813218899894\n",
      "CosSquareFormer\n",
      "Best MSE : 0.00947087386437057\n",
      "RMSE : 0.09731841482664301\n",
      "MAPE : 53.840334316546\n",
      "\n"
     ]
    }
   ],
   "source": [
    "# # RNN\n",
    "# RNNmodel = RNN(1, INPUT_DIM, HIDDEN_DIM, LAYER_DIM).to(device)\n",
    "# train(trainLoader, testLoader, RNNmodel, \"RNN\", SELECTED_COLUMN)\n",
    "# # LSTM\n",
    "# LSTMmodel = LSTM(1, INPUT_DIM, HIDDEN_DIM, LAYER_DIM).to(device)\n",
    "# train(trainLoader, testLoader, LSTMmodel, \"LSTM\", SELECTED_COLUMN)\n",
    "# # # BiLSTM\n",
    "# # BiLSTMmodel = LSTM(1, INPUT_DIM+1, HIDDEN_DIM, LAYER_DIM, bidirectional=True).to(device)\n",
    "# # train(trainLoader, testLoader, BiLSTMmodel, \"BiLSTM\", SELECTED_COLUMN)\n",
    "# # TransLSTM\n",
    "# TransLSTMmodel = TransLSTM(num_layers=3, D=16, H=5, hidden_mlp_dim=32, inp_features=2, out_features=1, dropout_rate=0.2, LSTM_module = LSTM(1, INPUT_DIM, HIDDEN_DIM, LAYER_DIM, bidirectional = False).to(device), attention_type='regular').to(device) # cosine_square, cosine, regular # 6L, 12H\n",
    "# train(trainLoader, testLoader, TransLSTMmodel, \"TransLSTM\", SELECTED_COLUMN, mask=True)\n",
    "# Transformer\n",
    "Transmodel = Transformer(num_layers=6, D=16, H=10, hidden_mlp_dim=32, inp_features=2, out_features=1, dropout_rate=0.1, attention_type='regular', SL=SEQ_LENGTH).to(device) # cosine_square, cosine, regular # 6L, 12H\n",
    "train(trainLoader, testLoader, Transmodel, \"Transformer\", SELECTED_COLUMN, mask=True)\n",
    "# CosFormer\n",
    "TransCosModel = Transformer(num_layers=6, D=16, H=10, hidden_mlp_dim=32, inp_features=2, out_features=1, dropout_rate=0.1, attention_type='cosine', SL=SEQ_LENGTH).to(device) # cosine_square, cosine, regular # 6L, 12\n",
    "train(trainLoader, testLoader, TransCosModel, \"CosFormer\", SELECTED_COLUMN, mask=True)\n",
    "# CosSquareFormer\n",
    "TransCosSquare = Transformer(num_layers=6, D=16, H=10, hidden_mlp_dim=32, inp_features=2, out_features=1, dropout_rate=0.1, attention_type='cosine_square', SL=SEQ_LENGTH).to(device) # cosine_square, cosine, regular # 6L, 12H\n",
    "train(trainLoader, testLoader, TransCosModel, \"CosSquareFormer\", SELECTED_COLUMN, mask=True)\n"
   ]
  },
  {
   "cell_type": "code",
   "execution_count": 11,
   "metadata": {},
   "outputs": [
    {
     "name": "stdout",
     "output_type": "stream",
     "text": [
      "set l1,l2 loss\n",
      "Start OLS training\n"
     ]
    },
    {
     "name": "stderr",
     "output_type": "stream",
     "text": [
      "147.65517203419535: 100%|██████████| 3378/3378 [00:35<00:00, 94.72it/s] \n"
     ]
    },
    {
     "name": "stdout",
     "output_type": "stream",
     "text": [
      "valid samples: 189091.0\n",
      "Eval MSE:  0.018449272573239785\n",
      "Eval RMSE: voc:  0.13582809935075946\n",
      "Eval MAPE: voc:  80.4875963325859\n"
     ]
    },
    {
     "name": "stderr",
     "output_type": "stream",
     "text": [
      "0.011114201472000788: 100%|██████████| 3378/3378 [00:34<00:00, 97.96it/s] \n"
     ]
    },
    {
     "name": "stdout",
     "output_type": "stream",
     "text": [
      "valid samples: 189091.0\n",
      "Eval MSE:  0.013586061731660245\n",
      "Eval RMSE: voc:  0.11655926274500987\n",
      "Eval MAPE: voc:  55.23562966623874\n"
     ]
    },
    {
     "name": "stderr",
     "output_type": "stream",
     "text": [
      "0.008347721942306168: 100%|██████████| 3378/3378 [00:35<00:00, 95.92it/s] \n"
     ]
    },
    {
     "name": "stdout",
     "output_type": "stream",
     "text": [
      "valid samples: 189091.0\n",
      "Eval MSE:  0.011082498436321716\n",
      "Eval RMSE: voc:  0.10527344601713062\n",
      "Eval MAPE: voc:  55.48646530473423\n"
     ]
    },
    {
     "name": "stderr",
     "output_type": "stream",
     "text": [
      "0.00801389659545401: 100%|██████████| 3378/3378 [00:35<00:00, 96.02it/s]  \n"
     ]
    },
    {
     "name": "stdout",
     "output_type": "stream",
     "text": [
      "valid samples: 189091.0\n",
      "Eval MSE:  0.010167804011145344\n",
      "Eval RMSE: voc:  0.10083552950793358\n",
      "Eval MAPE: voc:  61.78363278130635\n"
     ]
    },
    {
     "name": "stderr",
     "output_type": "stream",
     "text": [
      "0.0077910929927732225: 100%|██████████| 3378/3378 [00:34<00:00, 98.30it/s] \n"
     ]
    },
    {
     "name": "stdout",
     "output_type": "stream",
     "text": [
      "valid samples: 189091.0\n",
      "Eval MSE:  0.009798918522820662\n",
      "Eval RMSE: voc:  0.09898948693078807\n",
      "Eval MAPE: voc:  53.21590881672053\n"
     ]
    },
    {
     "name": "stderr",
     "output_type": "stream",
     "text": [
      "0.007650282796455217: 100%|██████████| 3378/3378 [00:35<00:00, 95.06it/s]  \n"
     ]
    },
    {
     "name": "stdout",
     "output_type": "stream",
     "text": [
      "valid samples: 189091.0\n",
      "Eval MSE:  0.009136427048427266\n",
      "Eval RMSE: voc:  0.0955846590642414\n",
      "Eval MAPE: voc:  60.54262667346675\n"
     ]
    },
    {
     "name": "stderr",
     "output_type": "stream",
     "text": [
      "0.007623415460016456: 100%|██████████| 3378/3378 [00:34<00:00, 97.73it/s]  \n"
     ]
    },
    {
     "name": "stdout",
     "output_type": "stream",
     "text": [
      "valid samples: 189091.0\n",
      "Eval MSE:  0.009601606998070084\n",
      "Eval RMSE: voc:  0.09798779004585256\n",
      "Eval MAPE: voc:  48.93748816294139\n"
     ]
    },
    {
     "name": "stderr",
     "output_type": "stream",
     "text": [
      "0.007583386566359805: 100%|██████████| 3378/3378 [00:34<00:00, 97.72it/s]  \n"
     ]
    },
    {
     "name": "stdout",
     "output_type": "stream",
     "text": [
      "valid samples: 189091.0\n",
      "Eval MSE:  0.010838072552798911\n",
      "Eval RMSE: voc:  0.1041060639578642\n",
      "Eval MAPE: voc:  39.930238770205214\n"
     ]
    },
    {
     "name": "stderr",
     "output_type": "stream",
     "text": [
      "0.0076188159244073815: 100%|██████████| 3378/3378 [00:35<00:00, 95.41it/s] \n"
     ]
    },
    {
     "name": "stdout",
     "output_type": "stream",
     "text": [
      "valid samples: 189091.0\n",
      "Eval MSE:  0.009485550233804116\n",
      "Eval RMSE: voc:  0.09739378950325382\n",
      "Eval MAPE: voc:  49.25085802148503\n"
     ]
    },
    {
     "name": "stderr",
     "output_type": "stream",
     "text": [
      "0.007647813161404426: 100%|██████████| 3378/3378 [00:35<00:00, 96.16it/s]  \n"
     ]
    },
    {
     "name": "stdout",
     "output_type": "stream",
     "text": [
      "valid samples: 189091.0\n",
      "Eval MSE:  0.00973251925556196\n",
      "Eval RMSE: voc:  0.0986535313892106\n",
      "Eval MAPE: voc:  46.184220349758846\n",
      "OLS\n",
      "Best MSE : 0.009136427048427266\n",
      "RMSE : 0.0955846590642414\n",
      "MAPE : 60.54262667346675\n",
      "\n",
      "set l1,l2 loss\n",
      "Start LASSO training\n"
     ]
    },
    {
     "name": "stderr",
     "output_type": "stream",
     "text": [
      "5.1400163929541085: 100%|██████████| 3378/3378 [00:35<00:00, 94.17it/s] \n"
     ]
    },
    {
     "name": "stdout",
     "output_type": "stream",
     "text": [
      "valid samples: 189091.0\n",
      "Eval MSE:  0.3827163936196725\n",
      "Eval RMSE: voc:  0.6186407629793502\n",
      "Eval MAPE: voc:  550.7023651971803\n"
     ]
    },
    {
     "name": "stderr",
     "output_type": "stream",
     "text": [
      "0.08059734104016758: 100%|██████████| 3378/3378 [00:35<00:00, 94.39it/s] \n"
     ]
    },
    {
     "name": "stdout",
     "output_type": "stream",
     "text": [
      "valid samples: 189091.0\n",
      "Eval MSE:  0.01014189822006635\n",
      "Eval RMSE: voc:  0.10070699191250998\n",
      "Eval MAPE: voc:  47.851282841743526\n"
     ]
    },
    {
     "name": "stderr",
     "output_type": "stream",
     "text": [
      "0.007562924989018327: 100%|██████████| 3378/3378 [00:35<00:00, 96.26it/s]  \n"
     ]
    },
    {
     "name": "stdout",
     "output_type": "stream",
     "text": [
      "valid samples: 189091.0\n",
      "Eval MSE:  0.009639275870179518\n",
      "Eval RMSE: voc:  0.09817981396488545\n",
      "Eval MAPE: voc:  52.06618853488531\n"
     ]
    },
    {
     "name": "stderr",
     "output_type": "stream",
     "text": [
      "0.007672194169617551: 100%|██████████| 3378/3378 [00:35<00:00, 96.29it/s]  \n"
     ]
    },
    {
     "name": "stdout",
     "output_type": "stream",
     "text": [
      "valid samples: 189091.0\n",
      "Eval MSE:  0.00905717464541657\n",
      "Eval RMSE: voc:  0.09516918958053898\n",
      "Eval MAPE: voc:  69.4450636118985\n"
     ]
    },
    {
     "name": "stderr",
     "output_type": "stream",
     "text": [
      "0.007663903416679205: 100%|██████████| 3378/3378 [00:35<00:00, 94.53it/s]  \n"
     ]
    },
    {
     "name": "stdout",
     "output_type": "stream",
     "text": [
      "valid samples: 189091.0\n",
      "Eval MSE:  0.011464013796178318\n",
      "Eval RMSE: voc:  0.10707013494050673\n",
      "Eval MAPE: voc:  37.565303947157055\n"
     ]
    },
    {
     "name": "stderr",
     "output_type": "stream",
     "text": [
      "0.00774120874039866: 100%|██████████| 3378/3378 [00:34<00:00, 97.26it/s]   \n"
     ]
    },
    {
     "name": "stdout",
     "output_type": "stream",
     "text": [
      "valid samples: 189091.0\n",
      "Eval MSE:  0.011348473664551\n",
      "Eval RMSE: voc:  0.10652921507525999\n",
      "Eval MAPE: voc:  37.652273533312005\n"
     ]
    },
    {
     "name": "stderr",
     "output_type": "stream",
     "text": [
      "0.007681133021092425: 100%|██████████| 3378/3378 [00:35<00:00, 95.76it/s]  \n"
     ]
    },
    {
     "name": "stdout",
     "output_type": "stream",
     "text": [
      "valid samples: 189091.0\n",
      "Eval MSE:  0.008941298396939999\n",
      "Eval RMSE: voc:  0.09455843905723063\n",
      "Eval MAPE: voc:  66.91523422419628\n"
     ]
    },
    {
     "name": "stderr",
     "output_type": "stream",
     "text": [
      "0.007698774868357744: 100%|██████████| 3378/3378 [00:34<00:00, 97.94it/s]  \n"
     ]
    },
    {
     "name": "stdout",
     "output_type": "stream",
     "text": [
      "valid samples: 189091.0\n",
      "Eval MSE:  0.00898049453188317\n",
      "Eval RMSE: voc:  0.09476547120066027\n",
      "Eval MAPE: voc:  71.39400535820056\n"
     ]
    },
    {
     "name": "stderr",
     "output_type": "stream",
     "text": [
      "0.007702722692919499: 100%|██████████| 3378/3378 [00:34<00:00, 96.78it/s]  \n"
     ]
    },
    {
     "name": "stdout",
     "output_type": "stream",
     "text": [
      "valid samples: 189091.0\n",
      "Eval MSE:  0.008939873919974275\n",
      "Eval RMSE: voc:  0.0945509065000134\n",
      "Eval MAPE: voc:  66.11051978610828\n"
     ]
    },
    {
     "name": "stderr",
     "output_type": "stream",
     "text": [
      "0.007728262664701974: 100%|██████████| 3378/3378 [00:35<00:00, 94.07it/s]  \n"
     ]
    },
    {
     "name": "stdout",
     "output_type": "stream",
     "text": [
      "valid samples: 189091.0\n",
      "Eval MSE:  0.009317265821483811\n",
      "Eval RMSE: voc:  0.0965259852137434\n",
      "Eval MAPE: voc:  52.55117121187682\n",
      "LASSO\n",
      "Best MSE : 0.008939873919974275\n",
      "RMSE : 0.0945509065000134\n",
      "MAPE : 66.11051978610828\n",
      "\n",
      "set l1,l2 loss\n",
      "Start Ridge training\n"
     ]
    },
    {
     "name": "stderr",
     "output_type": "stream",
     "text": [
      "2.1345449733807516: 100%|██████████| 3378/3378 [00:35<00:00, 95.77it/s] \n"
     ]
    },
    {
     "name": "stdout",
     "output_type": "stream",
     "text": [
      "valid samples: 189091.0\n",
      "Eval MSE:  0.04325811898918089\n",
      "Eval RMSE: voc:  0.2079858624743059\n",
      "Eval MAPE: voc:  167.7957740089428\n"
     ]
    },
    {
     "name": "stderr",
     "output_type": "stream",
     "text": [
      "0.012225721773549223: 100%|██████████| 3378/3378 [00:34<00:00, 96.88it/s] \n"
     ]
    },
    {
     "name": "stdout",
     "output_type": "stream",
     "text": [
      "valid samples: 189091.0\n",
      "Eval MSE:  0.008275754454613878\n",
      "Eval RMSE: voc:  0.09097117375638218\n",
      "Eval MAPE: voc:  54.45225601942318\n"
     ]
    },
    {
     "name": "stderr",
     "output_type": "stream",
     "text": [
      "0.007789398411888803: 100%|██████████| 3378/3378 [00:34<00:00, 97.39it/s]  \n"
     ]
    },
    {
     "name": "stdout",
     "output_type": "stream",
     "text": [
      "valid samples: 189091.0\n",
      "Eval MSE:  0.008696368045622193\n",
      "Eval RMSE: voc:  0.09325431917944708\n",
      "Eval MAPE: voc:  52.34340707648698\n"
     ]
    },
    {
     "name": "stderr",
     "output_type": "stream",
     "text": [
      "0.007718199592531976: 100%|██████████| 3378/3378 [00:34<00:00, 96.73it/s]  \n"
     ]
    },
    {
     "name": "stdout",
     "output_type": "stream",
     "text": [
      "valid samples: 189091.0\n",
      "Eval MSE:  0.009082759349179513\n",
      "Eval RMSE: voc:  0.09530351173581965\n",
      "Eval MAPE: voc:  51.709903399685864\n"
     ]
    },
    {
     "name": "stderr",
     "output_type": "stream",
     "text": [
      "0.007670145176725752: 100%|██████████| 3378/3378 [00:40<00:00, 83.71it/s]  \n"
     ]
    },
    {
     "name": "stdout",
     "output_type": "stream",
     "text": [
      "valid samples: 189091.0\n",
      "Eval MSE:  0.014179017406345626\n",
      "Eval RMSE: voc:  0.11907567932346902\n",
      "Eval MAPE: voc:  43.84934194630495\n"
     ]
    },
    {
     "name": "stderr",
     "output_type": "stream",
     "text": [
      "0.007671943837181263: 100%|██████████| 3378/3378 [00:41<00:00, 82.31it/s]  \n"
     ]
    },
    {
     "name": "stdout",
     "output_type": "stream",
     "text": [
      "valid samples: 189091.0\n",
      "Eval MSE:  0.00947537348469898\n",
      "Eval RMSE: voc:  0.09734153011278886\n",
      "Eval MAPE: voc:  49.5045101259116\n"
     ]
    },
    {
     "name": "stderr",
     "output_type": "stream",
     "text": [
      "0.0076784036751070634: 100%|██████████| 3378/3378 [00:41<00:00, 81.54it/s] \n"
     ]
    },
    {
     "name": "stdout",
     "output_type": "stream",
     "text": [
      "valid samples: 189091.0\n",
      "Eval MSE:  0.009761115817257176\n",
      "Eval RMSE: voc:  0.09879835938545324\n",
      "Eval MAPE: voc:  89.92691566577071\n"
     ]
    },
    {
     "name": "stderr",
     "output_type": "stream",
     "text": [
      "0.007703234460395071: 100%|██████████| 3378/3378 [00:41<00:00, 81.90it/s]  \n"
     ]
    },
    {
     "name": "stdout",
     "output_type": "stream",
     "text": [
      "valid samples: 189091.0\n",
      "Eval MSE:  0.01023477141493299\n",
      "Eval RMSE: voc:  0.10116704708022761\n",
      "Eval MAPE: voc:  42.65155194787166\n"
     ]
    },
    {
     "name": "stderr",
     "output_type": "stream",
     "text": [
      "0.00764604216612999: 100%|██████████| 3378/3378 [00:41<00:00, 80.86it/s]   \n"
     ]
    },
    {
     "name": "stdout",
     "output_type": "stream",
     "text": [
      "valid samples: 189091.0\n",
      "Eval MSE:  0.010359047235778518\n",
      "Eval RMSE: voc:  0.10177940477217637\n",
      "Eval MAPE: voc:  41.92602030487305\n"
     ]
    },
    {
     "name": "stderr",
     "output_type": "stream",
     "text": [
      "0.007694446023822699: 100%|██████████| 3378/3378 [00:41<00:00, 82.02it/s]  \n"
     ]
    },
    {
     "name": "stdout",
     "output_type": "stream",
     "text": [
      "valid samples: 189091.0\n",
      "Eval MSE:  0.009100856521065544\n",
      "Eval RMSE: voc:  0.09539840942628731\n",
      "Eval MAPE: voc:  57.16238519086049\n",
      "Ridge\n",
      "Best MSE : 0.008275754454613878\n",
      "RMSE : 0.09097117375638218\n",
      "MAPE : 54.45225601942318\n",
      "\n",
      "set l1,l2 loss\n",
      "Start Elastic training\n"
     ]
    },
    {
     "name": "stderr",
     "output_type": "stream",
     "text": [
      "6.126604445027203: 100%|██████████| 3378/3378 [00:42<00:00, 79.53it/s]  \n"
     ]
    },
    {
     "name": "stdout",
     "output_type": "stream",
     "text": [
      "valid samples: 189091.0\n",
      "Eval MSE:  0.6448819796709984\n",
      "Eval RMSE: voc:  0.8030454406015879\n",
      "Eval MAPE: voc:  751.7519590435293\n"
     ]
    },
    {
     "name": "stderr",
     "output_type": "stream",
     "text": [
      "0.140648116066517: 100%|██████████| 3378/3378 [00:41<00:00, 81.55it/s]   \n"
     ]
    },
    {
     "name": "stdout",
     "output_type": "stream",
     "text": [
      "valid samples: 189091.0\n",
      "Eval MSE:  0.012079766044913457\n",
      "Eval RMSE: voc:  0.1099079889949473\n",
      "Eval MAPE: voc:  46.58726264115228\n"
     ]
    },
    {
     "name": "stderr",
     "output_type": "stream",
     "text": [
      "0.008111125844550876: 100%|██████████| 3378/3378 [00:41<00:00, 80.87it/s] \n"
     ]
    },
    {
     "name": "stdout",
     "output_type": "stream",
     "text": [
      "valid samples: 189091.0\n",
      "Eval MSE:  0.010060752761609788\n",
      "Eval RMSE: voc:  0.10030330384194625\n",
      "Eval MAPE: voc:  60.13232901916273\n"
     ]
    },
    {
     "name": "stderr",
     "output_type": "stream",
     "text": [
      "0.007863353395385455: 100%|██████████| 3378/3378 [00:41<00:00, 80.89it/s] \n"
     ]
    },
    {
     "name": "stdout",
     "output_type": "stream",
     "text": [
      "valid samples: 189091.0\n",
      "Eval MSE:  0.00941328956963946\n",
      "Eval RMSE: voc:  0.09702210866415685\n",
      "Eval MAPE: voc:  73.35467519193801\n"
     ]
    },
    {
     "name": "stderr",
     "output_type": "stream",
     "text": [
      "0.007751354114341364: 100%|██████████| 3378/3378 [00:41<00:00, 81.31it/s]  \n"
     ]
    },
    {
     "name": "stdout",
     "output_type": "stream",
     "text": [
      "valid samples: 189091.0\n",
      "Eval MSE:  0.009847130763776033\n",
      "Eval RMSE: voc:  0.099232710150313\n",
      "Eval MAPE: voc:  48.79722263354681\n"
     ]
    },
    {
     "name": "stderr",
     "output_type": "stream",
     "text": [
      "0.007779496096492563: 100%|██████████| 3378/3378 [00:41<00:00, 81.04it/s]  \n"
     ]
    },
    {
     "name": "stdout",
     "output_type": "stream",
     "text": [
      "valid samples: 189091.0\n",
      "Eval MSE:  0.011033269634053459\n",
      "Eval RMSE: voc:  0.10503937182815527\n",
      "Eval MAPE: voc:  38.74318708072436\n"
     ]
    },
    {
     "name": "stderr",
     "output_type": "stream",
     "text": [
      "0.007721605010573571: 100%|██████████| 3378/3378 [00:41<00:00, 80.53it/s]  \n"
     ]
    },
    {
     "name": "stdout",
     "output_type": "stream",
     "text": [
      "valid samples: 189091.0\n",
      "Eval MSE:  0.015448135116217811\n",
      "Eval RMSE: voc:  0.12429052705744638\n",
      "Eval MAPE: voc:  46.154664113029575\n"
     ]
    },
    {
     "name": "stderr",
     "output_type": "stream",
     "text": [
      "0.007770260123926397: 100%|██████████| 3378/3378 [00:41<00:00, 81.26it/s]  \n"
     ]
    },
    {
     "name": "stdout",
     "output_type": "stream",
     "text": [
      "valid samples: 189091.0\n",
      "Eval MSE:  0.009037465238356064\n",
      "Eval RMSE: voc:  0.09506558387953058\n",
      "Eval MAPE: voc:  66.25172474000614\n"
     ]
    },
    {
     "name": "stderr",
     "output_type": "stream",
     "text": [
      "0.007745379691708076: 100%|██████████| 3378/3378 [00:41<00:00, 81.04it/s]  \n"
     ]
    },
    {
     "name": "stdout",
     "output_type": "stream",
     "text": [
      "valid samples: 189091.0\n",
      "Eval MSE:  0.011413767403729801\n",
      "Eval RMSE: voc:  0.1068352348419275\n",
      "Eval MAPE: voc:  37.77382313401682\n"
     ]
    },
    {
     "name": "stderr",
     "output_type": "stream",
     "text": [
      "0.00777628058892283: 100%|██████████| 3378/3378 [00:41<00:00, 81.05it/s]   \n"
     ]
    },
    {
     "name": "stdout",
     "output_type": "stream",
     "text": [
      "valid samples: 189091.0\n",
      "Eval MSE:  0.009545146145815498\n",
      "Eval RMSE: voc:  0.09769926379362076\n",
      "Eval MAPE: voc:  50.53591043383212\n",
      "Elastic\n",
      "Best MSE : 0.009037465238356064\n",
      "RMSE : 0.09506558387953058\n",
      "MAPE : 66.25172474000614\n",
      "\n"
     ]
    }
   ],
   "source": [
    "OLS = LinearRegression(input_dim=2)\n",
    "train(trainLoader, testLoader, OLS, \"OLS\", SELECTED_COLUMN, LUR=True)\n",
    "LASSO = LinearRegression(input_dim=2)\n",
    "train(trainLoader, testLoader, LASSO, \"LASSO\", SELECTED_COLUMN, LUR=True, l1=True)\n",
    "Ridge = LinearRegression(input_dim=2)\n",
    "train(trainLoader, testLoader, Ridge, \"Ridge\", SELECTED_COLUMN, LUR=True, l2=True)\n",
    "Elastic = LinearRegression(input_dim=2)\n",
    "train(trainLoader, testLoader, Elastic, \"Elastic\", SELECTED_COLUMN, LUR=True, l1=True, l2=True)"
   ]
  }
 ],
 "metadata": {
  "kernelspec": {
   "display_name": "ma",
   "language": "python",
   "name": "python3"
  },
  "language_info": {
   "codemirror_mode": {
    "name": "ipython",
    "version": 3
   },
   "file_extension": ".py",
   "mimetype": "text/x-python",
   "name": "python",
   "nbconvert_exporter": "python",
   "pygments_lexer": "ipython3",
   "version": "3.9.16"
  },
  "orig_nbformat": 4
 },
 "nbformat": 4,
 "nbformat_minor": 2
}
