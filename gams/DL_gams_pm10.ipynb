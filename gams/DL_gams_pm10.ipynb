{
 "cells": [
  {
   "cell_type": "code",
   "execution_count": 1,
   "metadata": {},
   "outputs": [],
   "source": [
    "import pandas as pd\n",
    "import numpy as np\n",
    "from torch.utils.data import DataLoader\n",
    "\n",
    "import lime\n",
    "\n",
    "import matplotlib.pyplot as plt\n",
    "import os \n",
    "import sys\n",
    "import random\n",
    "import warnings\n",
    "\n",
    "import torch\n",
    "\n",
    "\n",
    "warnings.filterwarnings(\"ignore\")\n",
    "\n",
    "SEED_VALUE = 100\n",
    "os.environ['PYTHONHASHSEED'] = str(SEED_VALUE)\n",
    "random.seed(SEED_VALUE)\n",
    "np.random.seed(SEED_VALUE)\n",
    "torch.manual_seed(SEED_VALUE)\n",
    "torch.cuda.manual_seed(SEED_VALUE)\n",
    "torch.cuda.manual_seed_all(SEED_VALUE)\n",
    "\n",
    "\n",
    "torch.backends.cudnn.deterministic = True\n",
    "torch.backends.cudnn.benchmark = False"
   ]
  },
  {
   "cell_type": "code",
   "execution_count": 2,
   "metadata": {},
   "outputs": [
    {
     "data": {
      "text/plain": [
       "<torch._C.Generator at 0x7efdf80d5d70>"
      ]
     },
     "execution_count": 2,
     "metadata": {},
     "output_type": "execute_result"
    }
   ],
   "source": [
    "def seed_worker(worker_id):\n",
    "    worker_seed = torch.initial_seed() % 2**32\n",
    "    np.random.seed(worker_seed)\n",
    "    random.seed(worker_seed)\n",
    "    \n",
    "g = torch.Generator()\n",
    "g.manual_seed(0)"
   ]
  },
  {
   "attachments": {},
   "cell_type": "markdown",
   "metadata": {},
   "source": [
    "# city pollution data"
   ]
  },
  {
   "cell_type": "code",
   "execution_count": 3,
   "metadata": {},
   "outputs": [],
   "source": [
    "time_series_data = pd.read_csv(\"./data/gams_indoor.csv\")\n",
    "\n",
    "\n",
    "DROP_ONEHOT = True\n",
    "SEQ_LENGTH = 7\n",
    "\n",
    "\n",
    "if DROP_ONEHOT:\n",
    "  INPUT_DIM = 2\n",
    "# else:\n",
    "#   INPUT_DIM = 29\n",
    "\n",
    "HIDDEN_DIM = 32\n",
    "LAYER_DIM = 3\n",
    "\n",
    "\n",
    "normalization_type = 'mean_std' # 'max', mean_std"
   ]
  },
  {
   "cell_type": "code",
   "execution_count": 4,
   "metadata": {},
   "outputs": [
    {
     "name": "stdout",
     "output_type": "stream",
     "text": [
      "Train data:                          ts    co2  humidity  pm10  pm25  temperature    voc\n",
      "0       2016-11-21 00:47:03  708.0     72.09  10.2   9.0        20.83  0.062\n",
      "1       2016-11-21 00:48:03  694.0     70.95  10.9  10.1        21.01  0.062\n",
      "2       2016-11-21 00:49:03  693.0     69.12  10.2   9.9        21.20  0.062\n",
      "3       2016-11-21 00:50:03  692.0     68.83   9.6   9.6        21.37  0.062\n",
      "4       2016-11-21 00:51:03  690.0     68.60   9.4   8.4        21.49  0.062\n",
      "...                     ...    ...       ...   ...   ...          ...    ...\n",
      "108074  2017-03-09 14:22:02  626.0     33.61  37.8  33.9        24.16  0.062\n",
      "108075  2017-03-09 14:23:02  627.0     33.65  35.9  33.8        24.15  0.062\n",
      "108076  2017-03-09 14:24:02  625.0     33.65  37.3  33.2        24.14  0.062\n",
      "108077  2017-03-09 14:25:02  625.0     33.56  37.0  33.4        24.18  0.062\n",
      "108078  2017-03-09 14:26:02  624.0     33.54  38.5  34.1        24.21  0.063\n",
      "\n",
      "[108079 rows x 7 columns]\n",
      "Test data:                          ts     co2  humidity  pm10  pm25  temperature    voc\n",
      "108079  2017-03-09 14:27:02   623.0     33.46  37.4  34.1        24.27  0.062\n",
      "108080  2017-03-09 14:28:02   622.0     33.46  40.1  35.2        24.26  0.062\n",
      "108081  2017-03-09 14:30:02   617.0     33.46  36.5  32.1        24.24  0.065\n",
      "108082  2017-03-09 14:31:02   618.0     33.54  34.3  31.5        24.22  0.062\n",
      "108083  2017-03-09 14:32:02   615.0     33.52  35.5  32.4        24.20  0.063\n",
      "...                     ...     ...       ...   ...   ...          ...    ...\n",
      "135094  2017-03-28 09:26:03  1359.0     39.55   6.3   4.4        26.93  0.148\n",
      "135095  2017-03-28 09:27:03  1350.0     39.49   5.6   4.2        26.92  0.152\n",
      "135096  2017-03-28 09:28:03  1353.0     39.42   6.3   4.6        26.91  0.147\n",
      "135097  2017-03-28 09:29:03  1348.0     39.55   5.7   4.3        26.92  0.148\n",
      "135098  2017-03-28 09:30:03  1363.0     39.55   5.8   4.2        26.90  0.139\n",
      "\n",
      "[27020 rows x 7 columns]\n"
     ]
    }
   ],
   "source": [
    "import pandas as pd\n",
    "\n",
    "# 데이터를 시간 순서대로 정렬합니다.\n",
    "time_series_data = time_series_data.sort_values(by='ts')\n",
    "\n",
    "# 훈련 데이터와 테스트 데이터의 기간을 결정합니다.\n",
    "train_end_time = '2017-03-09 14:26:02'\n",
    "test_start_time = '2017-03-09 14:27:02'\n",
    "\n",
    "# 기준 시간을 기준으로 데이터를 분할합니다.\n",
    "train_data = time_series_data[time_series_data['ts'] <= train_end_time]\n",
    "test_data = time_series_data[time_series_data['ts'] >= test_start_time]\n",
    "\n",
    "print(\"Train data:\", train_data)\n",
    "print(\"Test data:\", test_data)"
   ]
  },
  {
   "cell_type": "code",
   "execution_count": 5,
   "metadata": {},
   "outputs": [
    {
     "name": "stdout",
     "output_type": "stream",
     "text": [
      "        humidity  temperature  pm10\n",
      "0          72.09        20.83  10.2\n",
      "1          70.95        21.01  10.9\n",
      "2          69.12        21.20  10.2\n",
      "3          68.83        21.37   9.6\n",
      "4          68.60        21.49   9.4\n",
      "...          ...          ...   ...\n",
      "108074     33.61        24.16  37.8\n",
      "108075     33.65        24.15  35.9\n",
      "108076     33.65        24.14  37.3\n",
      "108077     33.56        24.18  37.0\n",
      "108078     33.54        24.21  38.5\n",
      "\n",
      "[108079 rows x 3 columns]\n"
     ]
    }
   ],
   "source": [
    "features = ['humidity','temperature']\n",
    "SELECTED_COLUMN = \"pm10\" # ['co2','pm10','pm25','voc']\n",
    "train_data = train_data[features + [SELECTED_COLUMN]]\n",
    "test_data = test_data[features + [SELECTED_COLUMN]]\n",
    "\n",
    "print(train_data)"
   ]
  },
  {
   "cell_type": "code",
   "execution_count": 6,
   "metadata": {},
   "outputs": [],
   "source": [
    "class GamsIndoor(torch.utils.data.Dataset):\n",
    "  def __init__(self, data, selected_column, seq_length):\n",
    "    self.selected_column = selected_column\n",
    "    self.data = data \n",
    "    self.seq_length = seq_length\n",
    "\n",
    "  def __getitem__(self, idx):\n",
    "    seq = self.data[features][idx:idx+self.seq_length]\n",
    "    target = self.data[SELECTED_COLUMN][idx:idx+self.seq_length]\n",
    "    return torch.tensor(seq.values, dtype=torch.float32), torch.tensor(target.values, dtype=torch.float32)\n",
    "\n",
    "  def __len__(self):\n",
    "    return len(self.data) - self.seq_length\n"
   ]
  },
  {
   "attachments": {},
   "cell_type": "markdown",
   "metadata": {},
   "source": [
    "data pre-processing"
   ]
  },
  {
   "cell_type": "code",
   "execution_count": 7,
   "metadata": {},
   "outputs": [],
   "source": [
    "# function that implement the look_ahead mask for masking future time steps. \n",
    "def create_look_ahead_mask(size, device):\n",
    "    mask = torch.ones((size, size), device=device)\n",
    "    mask = torch.triu(mask, diagonal=1)\n",
    "    return mask  # (size, size)"
   ]
  },
  {
   "attachments": {},
   "cell_type": "markdown",
   "metadata": {},
   "source": [
    "# Model fitting"
   ]
  },
  {
   "cell_type": "code",
   "execution_count": 8,
   "metadata": {},
   "outputs": [],
   "source": [
    "from models import *\n",
    "from torch import nn\n",
    "from torch import optim\n",
    "import torch\n",
    "\n",
    "device=\"cuda\"\n",
    "\n",
    "# Evaluation\n",
    "def evaluation(testLoader, model, model_name, LUR, SELECTED_COLUMN, mask=False):\n",
    "    model.to(device)\n",
    "    model.eval()\n",
    "    mse_list = []\n",
    "    total_se = 0.0\n",
    "    total_pe = 0.0\n",
    "    total_valid = 0.0\n",
    "\n",
    "    for x_val, y_val in testLoader:\n",
    "        x_val, y_val = [t.cuda().float() for t in (x_val, y_val)]\n",
    "        \n",
    "        if mask:\n",
    "            masking = create_look_ahead_mask(x_val.shape[1], device)\n",
    "            out, _ = model(x_val.to(device), masking)\n",
    "        else:\n",
    "            out = model(x_val.to(device))\n",
    "\n",
    "        if LUR :\n",
    "            ytrue = y_val.squeeze().cpu().numpy()\n",
    "            ypred = out.squeeze().cpu().detach().numpy()\n",
    "        else:\n",
    "            ytrue = y_val.squeeze().cpu().numpy()\n",
    "            ypred = out.squeeze().cpu().detach().numpy()\n",
    "        true_valid = np.isnan(ytrue) != 1\n",
    "        ytrue = ytrue[true_valid] #np.nan_to_num(ytrue, 0)\n",
    "        ypred = ypred[true_valid]\n",
    "\n",
    "        se = (ytrue - ypred)**2 # np.square(ytrue - ypred)\n",
    "        pe = np.abs((ytrue - ypred) / (ytrue + 0.0001))\n",
    "        total_se += np.sum(se)\n",
    "        total_pe += np.sum(pe)\n",
    "        total_valid += np.sum(true_valid)\n",
    "\n",
    "    eval_mse = total_se / total_valid # np.mean(se) # \n",
    "    eval_mape = total_pe / total_valid # np.mean(pe) # \n",
    "    print('valid samples:', total_valid)\n",
    "    print('Eval MSE: ', eval_mse)\n",
    "    print('Eval RMSE: {}: '.format(SELECTED_COLUMN), np.sqrt(eval_mse))\n",
    "    print('Eval MAPE: {}: '.format(SELECTED_COLUMN), eval_mape*100)\n",
    "    \n",
    "    return eval_mse, eval_mape*100\n",
    "\n",
    "\n",
    "# Train\n",
    "def train(trainLoader, testLoader, model, model_name, SELECTED_COLUMN, mask=False, LUR=False, l1=False, l2=False):\n",
    "\n",
    "    lr = 0.001\n",
    "    n_epochs = 10   \n",
    "    \n",
    "    model.to(device)\n",
    "\n",
    "    criterion = nn.MSELoss()\n",
    "    \n",
    "    # LUR\n",
    "    if LUR:\n",
    "        print(\"set l1,l2 loss\")\n",
    "        l1_lmbda = 0.01\n",
    "        l1_lmbda = torch.FloatTensor([l1_lmbda]).cuda()\n",
    "        l1_reg = torch.tensor(0., requires_grad=True).to(device)\n",
    "        l2_lmbda = 0.01\n",
    "        l2_lmbda = torch.FloatTensor([l2_lmbda]).cuda()\n",
    "        l2_reg = torch.tensor(0., requires_grad=True).to(device)\n",
    "        opt = torch.optim.Adam(model.parameters(), lr=lr)\n",
    "            \n",
    "    # DL\n",
    "    else:\n",
    "        print(\"set SoftDTW loss\")\n",
    "        lmbda = 0.5\n",
    "        dtw_loss = SoftDTW(use_cuda=True, gamma=0.1)\n",
    "        opt = torch.optim.Adam(model.parameters(), lr=lr)\n",
    "    \n",
    "      \n",
    "    print('Start ' + model_name + ' training')\n",
    "    best_mse = 2000.0\n",
    "    mape = 2000.0\n",
    "    best_model = None\n",
    "    \n",
    "\n",
    "    for epoch in range(1, n_epochs + 1):\n",
    "        # print(\"start epoch\")\n",
    "        epoch_loss = 0\n",
    "        batch_idx = 0\n",
    "        bar = tqdm(trainLoader)\n",
    "        # print(\"start tqdm\")\n",
    "        model.train()\n",
    "        # print(\"start batch before\")\n",
    "        for x_batch, y_batch in bar:\n",
    "            # print(\"start batch\")\n",
    "            model.train()\n",
    "            x_batch = x_batch.cuda().float()\n",
    "            y_batch = y_batch.cuda().float()\n",
    "\n",
    "            # print(\"start mask\")\n",
    "            if mask==True:\n",
    "                masking = create_look_ahead_mask(x_batch.shape[1], device)\n",
    "                out, _ = model(x_batch.to(device), masking)\n",
    "            else :\n",
    "                out = model(x_batch.to(device))\n",
    "            opt.zero_grad()\n",
    "            \n",
    "            # print(\"start loss\")\n",
    "            if LUR:\n",
    "                # LASSO\n",
    "                if l1==True and l2==False:\n",
    "                    l1_reg = torch.norm(model.linear.weight, p=1)\n",
    "                    loss = criterion(out, y_batch.unsqueeze(2)) + l1_lmbda * l1_reg\n",
    "                # Ridge\n",
    "                elif l1==False and l2==True:\n",
    "                    l2_reg = torch.norm(model.linear.weight, p=2)\n",
    "                    loss = criterion(out, y_batch.unsqueeze(2)) + l2_lmbda * l2_reg\n",
    "                # Elastic\n",
    "                elif l1==True and l2==True:\n",
    "                    l1_reg = torch.norm(model.linear.weight, p=1)\n",
    "                    l2_reg = torch.norm(model.linear.weight, p=2)\n",
    "                    loss = criterion(out, y_batch.unsqueeze(2)) + l1_lmbda * l1_reg + l2_lmbda * l2_reg\n",
    "                # OLS\n",
    "                else:\n",
    "                    loss = criterion(out, y_batch.unsqueeze(2))\n",
    "            else:\n",
    "                # print(out.shape)\n",
    "                # print(y_batch.shape)\n",
    "                # print(y_batch.unsqueeze(2).shape)\n",
    "                loss = criterion(out, y_batch.unsqueeze(2)) + lmbda * dtw_loss(out.cuda(),y_batch.unsqueeze(2).cuda()).mean()\n",
    "\n",
    "            epoch_loss = (epoch_loss*batch_idx + loss.item())/(batch_idx+1)\n",
    "            loss.backward(retain_graph=True)\n",
    "            opt.step()\n",
    "\n",
    "            bar.set_description(str(epoch_loss))\n",
    "            batch_idx += 1\n",
    "\n",
    "        eval_mse, eval_mape = evaluation(testLoader, model, model_name, LUR, SELECTED_COLUMN, mask)\n",
    "        \n",
    "\n",
    "        if eval_mse < best_mse:\n",
    "            best_model = deepcopy(model)\n",
    "            best_mse = eval_mse\n",
    "            mape = eval_mape\n",
    "            torch.save(best_model.state_dict(), \"./save_gams/\"+SELECTED_COLUMN+\"/\"+model_name+\".pth\")\n",
    "      \n",
    "    print(model_name)   \n",
    "    print(\"Best MSE :\", best_mse)\n",
    "    print(\"RMSE :\", np.sqrt(best_mse))\n",
    "    print(\"MAPE :\", mape)\n",
    "    print()\n"
   ]
  },
  {
   "cell_type": "code",
   "execution_count": 9,
   "metadata": {},
   "outputs": [],
   "source": [
    "from models import *\n",
    "from loss_utils import *\n",
    "\n",
    "\n",
    "train_data = GamsIndoor(train_data, SELECTED_COLUMN, SEQ_LENGTH)\n",
    "test_data = GamsIndoor(test_data, SELECTED_COLUMN, SEQ_LENGTH)\n",
    "trainLoader = DataLoader(train_data, batch_size=32, shuffle=True, num_workers=4, worker_init_fn=seed_worker, generator=g)\n",
    "testLoader = DataLoader(test_data, batch_size=4096, shuffle=False, num_workers=4, worker_init_fn=seed_worker, generator=g)"
   ]
  },
  {
   "cell_type": "code",
   "execution_count": 10,
   "metadata": {},
   "outputs": [
    {
     "name": "stdout",
     "output_type": "stream",
     "text": [
      "set SoftDTW loss\n",
      "Start RNN training\n"
     ]
    },
    {
     "name": "stderr",
     "output_type": "stream",
     "text": [
      "843.9761999072656: 100%|██████████| 3378/3378 [00:44<00:00, 76.48it/s]\n"
     ]
    },
    {
     "name": "stdout",
     "output_type": "stream",
     "text": [
      "valid samples: 189091.0\n",
      "Eval MSE:  100.85306148891274\n",
      "Eval RMSE: pm10:  10.042562496141747\n",
      "Eval MAPE: pm10:  90.11460121631252\n"
     ]
    },
    {
     "name": "stderr",
     "output_type": "stream",
     "text": [
      "761.9352466318993: 100%|██████████| 3378/3378 [00:44<00:00, 76.61it/s]\n"
     ]
    },
    {
     "name": "stdout",
     "output_type": "stream",
     "text": [
      "valid samples: 189091.0\n",
      "Eval MSE:  93.49367797779905\n",
      "Eval RMSE: pm10:  9.669212893395152\n",
      "Eval MAPE: pm10:  64.04200205688002\n"
     ]
    },
    {
     "name": "stderr",
     "output_type": "stream",
     "text": [
      "727.0673508087938: 100%|██████████| 3378/3378 [00:44<00:00, 76.66it/s]\n"
     ]
    },
    {
     "name": "stdout",
     "output_type": "stream",
     "text": [
      "valid samples: 189091.0\n",
      "Eval MSE:  114.19845008487977\n",
      "Eval RMSE: pm10:  10.686367487826711\n",
      "Eval MAPE: pm10:  98.30324596110471\n"
     ]
    },
    {
     "name": "stderr",
     "output_type": "stream",
     "text": [
      "723.8956925125071: 100%|██████████| 3378/3378 [00:44<00:00, 76.40it/s]\n"
     ]
    },
    {
     "name": "stdout",
     "output_type": "stream",
     "text": [
      "valid samples: 189091.0\n",
      "Eval MSE:  102.60561845883728\n",
      "Eval RMSE: pm10:  10.129443146532651\n",
      "Eval MAPE: pm10:  85.73777959008493\n"
     ]
    },
    {
     "name": "stderr",
     "output_type": "stream",
     "text": [
      "720.655144343084: 100%|██████████| 3378/3378 [00:44<00:00, 75.84it/s] \n"
     ]
    },
    {
     "name": "stdout",
     "output_type": "stream",
     "text": [
      "valid samples: 189091.0\n",
      "Eval MSE:  97.79042828585179\n",
      "Eval RMSE: pm10:  9.888904301582244\n",
      "Eval MAPE: pm10:  77.25931334813662\n"
     ]
    },
    {
     "name": "stderr",
     "output_type": "stream",
     "text": [
      "719.2557797248442: 100%|██████████| 3378/3378 [00:44<00:00, 75.99it/s]\n"
     ]
    },
    {
     "name": "stdout",
     "output_type": "stream",
     "text": [
      "valid samples: 189091.0\n",
      "Eval MSE:  113.14806759708289\n",
      "Eval RMSE: pm10:  10.63710804669591\n",
      "Eval MAPE: pm10:  98.65360068862347\n"
     ]
    },
    {
     "name": "stderr",
     "output_type": "stream",
     "text": [
      "718.7738613176101: 100%|██████████| 3378/3378 [00:43<00:00, 77.22it/s]\n"
     ]
    },
    {
     "name": "stdout",
     "output_type": "stream",
     "text": [
      "valid samples: 189091.0\n",
      "Eval MSE:  103.34025746862622\n",
      "Eval RMSE: pm10:  10.165641025957301\n",
      "Eval MAPE: pm10:  90.23608290370113\n"
     ]
    },
    {
     "name": "stderr",
     "output_type": "stream",
     "text": [
      "717.9323678522014: 100%|██████████| 3378/3378 [00:44<00:00, 76.58it/s]\n"
     ]
    },
    {
     "name": "stdout",
     "output_type": "stream",
     "text": [
      "valid samples: 189091.0\n",
      "Eval MSE:  111.08740368394054\n",
      "Eval RMSE: pm10:  10.539800931893378\n",
      "Eval MAPE: pm10:  95.43830696513187\n"
     ]
    },
    {
     "name": "stderr",
     "output_type": "stream",
     "text": [
      "716.6924317282565: 100%|██████████| 3378/3378 [00:44<00:00, 76.38it/s]\n"
     ]
    },
    {
     "name": "stdout",
     "output_type": "stream",
     "text": [
      "valid samples: 189091.0\n",
      "Eval MSE:  106.77772474628618\n",
      "Eval RMSE: pm10:  10.333330767293099\n",
      "Eval MAPE: pm10:  91.39994361593756\n"
     ]
    },
    {
     "name": "stderr",
     "output_type": "stream",
     "text": [
      "716.0771204088486: 100%|██████████| 3378/3378 [00:43<00:00, 77.15it/s]\n"
     ]
    },
    {
     "name": "stdout",
     "output_type": "stream",
     "text": [
      "valid samples: 189091.0\n",
      "Eval MSE:  104.16616338165223\n",
      "Eval RMSE: pm10:  10.206182605737183\n",
      "Eval MAPE: pm10:  87.76764250579086\n",
      "RNN\n",
      "Best MSE : 93.49367797779905\n",
      "RMSE : 9.669212893395152\n",
      "MAPE : 64.04200205688002\n",
      "\n",
      "set SoftDTW loss\n",
      "Start LSTM training\n"
     ]
    },
    {
     "name": "stderr",
     "output_type": "stream",
     "text": [
      "841.7645712536848: 100%|██████████| 3378/3378 [00:43<00:00, 77.77it/s]\n"
     ]
    },
    {
     "name": "stdout",
     "output_type": "stream",
     "text": [
      "valid samples: 189091.0\n",
      "Eval MSE:  103.96838559212232\n",
      "Eval RMSE: pm10:  10.196488885499868\n",
      "Eval MAPE: pm10:  91.64799868185159\n"
     ]
    },
    {
     "name": "stderr",
     "output_type": "stream",
     "text": [
      "788.5315764965287: 100%|██████████| 3378/3378 [00:44<00:00, 76.06it/s]\n"
     ]
    },
    {
     "name": "stdout",
     "output_type": "stream",
     "text": [
      "valid samples: 189091.0\n",
      "Eval MSE:  101.3016001554807\n",
      "Eval RMSE: pm10:  10.064869604494671\n",
      "Eval MAPE: pm10:  87.78822979494662\n"
     ]
    },
    {
     "name": "stderr",
     "output_type": "stream",
     "text": [
      "788.375010696511: 100%|██████████| 3378/3378 [00:45<00:00, 74.45it/s] \n"
     ]
    },
    {
     "name": "stdout",
     "output_type": "stream",
     "text": [
      "valid samples: 189091.0\n",
      "Eval MSE:  103.77188496543992\n",
      "Eval RMSE: pm10:  10.186848627786707\n",
      "Eval MAPE: pm10:  91.49138592661734\n"
     ]
    },
    {
     "name": "stderr",
     "output_type": "stream",
     "text": [
      "788.3009842668796: 100%|██████████| 3378/3378 [00:43<00:00, 77.62it/s]\n"
     ]
    },
    {
     "name": "stdout",
     "output_type": "stream",
     "text": [
      "valid samples: 189091.0\n",
      "Eval MSE:  101.320873283234\n",
      "Eval RMSE: pm10:  10.065827004436048\n",
      "Eval MAPE: pm10:  87.92397534454311\n"
     ]
    },
    {
     "name": "stderr",
     "output_type": "stream",
     "text": [
      "788.0607084880705: 100%|██████████| 3378/3378 [00:43<00:00, 77.34it/s]\n"
     ]
    },
    {
     "name": "stdout",
     "output_type": "stream",
     "text": [
      "valid samples: 189091.0\n",
      "Eval MSE:  104.24615529030996\n",
      "Eval RMSE: pm10:  10.21010065035159\n",
      "Eval MAPE: pm10:  92.19516155168014\n"
     ]
    },
    {
     "name": "stderr",
     "output_type": "stream",
     "text": [
      "788.0173198955176: 100%|██████████| 3378/3378 [00:44<00:00, 75.35it/s]\n"
     ]
    },
    {
     "name": "stdout",
     "output_type": "stream",
     "text": [
      "valid samples: 189091.0\n",
      "Eval MSE:  101.2834957771655\n",
      "Eval RMSE: pm10:  10.063970179663963\n",
      "Eval MAPE: pm10:  87.9586694947803\n"
     ]
    },
    {
     "name": "stderr",
     "output_type": "stream",
     "text": [
      "787.8416329130322: 100%|██████████| 3378/3378 [00:44<00:00, 76.54it/s]\n"
     ]
    },
    {
     "name": "stdout",
     "output_type": "stream",
     "text": [
      "valid samples: 189091.0\n",
      "Eval MSE:  101.55061980739433\n",
      "Eval RMSE: pm10:  10.077232745520684\n",
      "Eval MAPE: pm10:  88.43656026562607\n"
     ]
    },
    {
     "name": "stderr",
     "output_type": "stream",
     "text": [
      "787.6310487953851: 100%|██████████| 3378/3378 [00:44<00:00, 75.42it/s]\n"
     ]
    },
    {
     "name": "stdout",
     "output_type": "stream",
     "text": [
      "valid samples: 189091.0\n",
      "Eval MSE:  101.06520669941986\n",
      "Eval RMSE: pm10:  10.053119252223155\n",
      "Eval MAPE: pm10:  87.69284076516068\n"
     ]
    },
    {
     "name": "stderr",
     "output_type": "stream",
     "text": [
      "787.7034523457453: 100%|██████████| 3378/3378 [00:43<00:00, 76.97it/s]\n"
     ]
    },
    {
     "name": "stdout",
     "output_type": "stream",
     "text": [
      "valid samples: 189091.0\n",
      "Eval MSE:  101.69529948543294\n",
      "Eval RMSE: pm10:  10.084408732564986\n",
      "Eval MAPE: pm10:  88.75256583222496\n"
     ]
    },
    {
     "name": "stderr",
     "output_type": "stream",
     "text": [
      "787.7145264864399: 100%|██████████| 3378/3378 [00:44<00:00, 75.68it/s]\n"
     ]
    },
    {
     "name": "stdout",
     "output_type": "stream",
     "text": [
      "valid samples: 189091.0\n",
      "Eval MSE:  102.76784854911128\n",
      "Eval RMSE: pm10:  10.137447832127734\n",
      "Eval MAPE: pm10:  90.38686492631194\n",
      "LSTM\n",
      "Best MSE : 101.06520669941986\n",
      "RMSE : 10.053119252223155\n",
      "MAPE : 87.69284076516068\n",
      "\n",
      "set SoftDTW loss\n",
      "Start Transformer training\n"
     ]
    },
    {
     "name": "stderr",
     "output_type": "stream",
     "text": [
      "844.4396556043428: 100%|██████████| 3378/3378 [01:57<00:00, 28.79it/s]\n"
     ]
    },
    {
     "name": "stdout",
     "output_type": "stream",
     "text": [
      "valid samples: 189091.0\n",
      "Eval MSE:  103.73770962129345\n",
      "Eval RMSE: pm10:  10.185171064900846\n",
      "Eval MAPE: pm10:  93.9800221437694\n"
     ]
    },
    {
     "name": "stderr",
     "output_type": "stream",
     "text": [
      "781.3756128856595: 100%|██████████| 3378/3378 [01:59<00:00, 28.22it/s]\n"
     ]
    },
    {
     "name": "stdout",
     "output_type": "stream",
     "text": [
      "valid samples: 189091.0\n",
      "Eval MSE:  101.76992691349668\n",
      "Eval RMSE: pm10:  10.088108192991225\n",
      "Eval MAPE: pm10:  91.41856322650206\n"
     ]
    },
    {
     "name": "stderr",
     "output_type": "stream",
     "text": [
      "781.4717237518851: 100%|██████████| 3378/3378 [01:59<00:00, 28.28it/s]\n"
     ]
    },
    {
     "name": "stdout",
     "output_type": "stream",
     "text": [
      "valid samples: 189091.0\n",
      "Eval MSE:  102.43827575082896\n",
      "Eval RMSE: pm10:  10.121179563214406\n",
      "Eval MAPE: pm10:  92.32420304988736\n"
     ]
    },
    {
     "name": "stderr",
     "output_type": "stream",
     "text": [
      "781.419873261891: 100%|██████████| 3378/3378 [01:57<00:00, 28.68it/s] \n"
     ]
    },
    {
     "name": "stdout",
     "output_type": "stream",
     "text": [
      "valid samples: 189091.0\n",
      "Eval MSE:  104.7246134136474\n",
      "Eval RMSE: pm10:  10.23350445417636\n",
      "Eval MAPE: pm10:  95.16109410449202\n"
     ]
    },
    {
     "name": "stderr",
     "output_type": "stream",
     "text": [
      "781.3752942172794: 100%|██████████| 3378/3378 [01:59<00:00, 28.27it/s]\n"
     ]
    },
    {
     "name": "stdout",
     "output_type": "stream",
     "text": [
      "valid samples: 189091.0\n",
      "Eval MSE:  100.45554389156544\n",
      "Eval RMSE: pm10:  10.022751313465053\n",
      "Eval MAPE: pm10:  89.50105165965064\n"
     ]
    },
    {
     "name": "stderr",
     "output_type": "stream",
     "text": [
      "781.456073966515: 100%|██████████| 3378/3378 [01:59<00:00, 28.28it/s] \n"
     ]
    },
    {
     "name": "stdout",
     "output_type": "stream",
     "text": [
      "valid samples: 189091.0\n",
      "Eval MSE:  102.14201032836041\n",
      "Eval RMSE: pm10:  10.10653305186108\n",
      "Eval MAPE: pm10:  91.9279291080419\n"
     ]
    },
    {
     "name": "stderr",
     "output_type": "stream",
     "text": [
      "781.8139291314999: 100%|██████████| 3378/3378 [01:58<00:00, 28.48it/s]\n"
     ]
    },
    {
     "name": "stdout",
     "output_type": "stream",
     "text": [
      "valid samples: 189091.0\n",
      "Eval MSE:  101.03708201342211\n",
      "Eval RMSE: pm10:  10.051720350936058\n",
      "Eval MAPE: pm10:  90.37471386544706\n"
     ]
    },
    {
     "name": "stderr",
     "output_type": "stream",
     "text": [
      "781.4433326653426: 100%|██████████| 3378/3378 [01:56<00:00, 29.08it/s]\n"
     ]
    },
    {
     "name": "stdout",
     "output_type": "stream",
     "text": [
      "valid samples: 189091.0\n",
      "Eval MSE:  102.89961909874081\n",
      "Eval RMSE: pm10:  10.143944947540913\n",
      "Eval MAPE: pm10:  92.9265394208344\n"
     ]
    },
    {
     "name": "stderr",
     "output_type": "stream",
     "text": [
      "781.5941745313124: 100%|██████████| 3378/3378 [01:57<00:00, 28.73it/s]\n"
     ]
    },
    {
     "name": "stdout",
     "output_type": "stream",
     "text": [
      "valid samples: 189091.0\n",
      "Eval MSE:  103.9441499066587\n",
      "Eval RMSE: pm10:  10.195300383346176\n",
      "Eval MAPE: pm10:  94.23173678199254\n"
     ]
    },
    {
     "name": "stderr",
     "output_type": "stream",
     "text": [
      "781.5165113377952: 100%|██████████| 3378/3378 [01:57<00:00, 28.76it/s]\n"
     ]
    },
    {
     "name": "stdout",
     "output_type": "stream",
     "text": [
      "valid samples: 189091.0\n",
      "Eval MSE:  103.37888040678827\n",
      "Eval RMSE: pm10:  10.167540528898238\n",
      "Eval MAPE: pm10:  93.53499986861485\n",
      "Transformer\n",
      "Best MSE : 100.45554389156544\n",
      "RMSE : 10.022751313465053\n",
      "MAPE : 89.50105165965064\n",
      "\n",
      "set SoftDTW loss\n",
      "Start CosFormer training\n"
     ]
    },
    {
     "name": "stderr",
     "output_type": "stream",
     "text": [
      "846.5288573785109: 100%|██████████| 3378/3378 [02:59<00:00, 18.82it/s]\n"
     ]
    },
    {
     "name": "stdout",
     "output_type": "stream",
     "text": [
      "valid samples: 189091.0\n",
      "Eval MSE:  100.64129242005173\n",
      "Eval RMSE: pm10:  10.03201337818345\n",
      "Eval MAPE: pm10:  89.78494223267501\n"
     ]
    },
    {
     "name": "stderr",
     "output_type": "stream",
     "text": [
      "781.3298243855216: 100%|██████████| 3378/3378 [03:00<00:00, 18.70it/s]\n"
     ]
    },
    {
     "name": "stdout",
     "output_type": "stream",
     "text": [
      "valid samples: 189091.0\n",
      "Eval MSE:  99.38735185704238\n",
      "Eval RMSE: pm10:  9.969320531362325\n",
      "Eval MAPE: pm10:  87.76678261475294\n"
     ]
    },
    {
     "name": "stderr",
     "output_type": "stream",
     "text": [
      "781.3808678039212: 100%|██████████| 3378/3378 [03:00<00:00, 18.72it/s]\n"
     ]
    },
    {
     "name": "stdout",
     "output_type": "stream",
     "text": [
      "valid samples: 189091.0\n",
      "Eval MSE:  102.5583303806104\n",
      "Eval RMSE: pm10:  10.127108688100982\n",
      "Eval MAPE: pm10:  92.48275404600166\n"
     ]
    },
    {
     "name": "stderr",
     "output_type": "stream",
     "text": [
      "781.5053545430691: 100%|██████████| 3378/3378 [03:00<00:00, 18.74it/s]\n"
     ]
    },
    {
     "name": "stdout",
     "output_type": "stream",
     "text": [
      "valid samples: 189091.0\n",
      "Eval MSE:  104.13543479065635\n",
      "Eval RMSE: pm10:  10.204677103693989\n",
      "Eval MAPE: pm10:  94.46307794180447\n"
     ]
    },
    {
     "name": "stderr",
     "output_type": "stream",
     "text": [
      "781.416838461298: 100%|██████████| 3378/3378 [03:00<00:00, 18.75it/s] \n"
     ]
    },
    {
     "name": "stdout",
     "output_type": "stream",
     "text": [
      "valid samples: 189091.0\n",
      "Eval MSE:  102.99059447567573\n",
      "Eval RMSE: pm10:  10.148428177588672\n",
      "Eval MAPE: pm10:  93.04351713840823\n"
     ]
    },
    {
     "name": "stderr",
     "output_type": "stream",
     "text": [
      "781.388465285088: 100%|██████████| 3378/3378 [03:02<00:00, 18.56it/s] \n"
     ]
    },
    {
     "name": "stdout",
     "output_type": "stream",
     "text": [
      "valid samples: 189091.0\n",
      "Eval MSE:  101.4355508723313\n",
      "Eval RMSE: pm10:  10.071521775398756\n",
      "Eval MAPE: pm10:  90.94956780895177\n"
     ]
    },
    {
     "name": "stderr",
     "output_type": "stream",
     "text": [
      "781.4138612086563: 100%|██████████| 3378/3378 [03:06<00:00, 18.08it/s]\n"
     ]
    },
    {
     "name": "stdout",
     "output_type": "stream",
     "text": [
      "valid samples: 189091.0\n",
      "Eval MSE:  102.27327384698373\n",
      "Eval RMSE: pm10:  10.113024960267019\n",
      "Eval MAPE: pm10:  92.1042826891219\n"
     ]
    },
    {
     "name": "stderr",
     "output_type": "stream",
     "text": [
      "781.829493376403: 100%|██████████| 3378/3378 [03:10<00:00, 17.70it/s] \n"
     ]
    },
    {
     "name": "stdout",
     "output_type": "stream",
     "text": [
      "valid samples: 189091.0\n",
      "Eval MSE:  101.46123162921556\n",
      "Eval RMSE: pm10:  10.072796614109487\n",
      "Eval MAPE: pm10:  90.98605611021941\n"
     ]
    },
    {
     "name": "stderr",
     "output_type": "stream",
     "text": [
      "781.4383029836126: 100%|██████████| 3378/3378 [03:13<00:00, 17.42it/s]\n"
     ]
    },
    {
     "name": "stdout",
     "output_type": "stream",
     "text": [
      "valid samples: 189091.0\n",
      "Eval MSE:  101.15682859046703\n",
      "Eval RMSE: pm10:  10.05767510861566\n",
      "Eval MAPE: pm10:  90.54935902637486\n"
     ]
    },
    {
     "name": "stderr",
     "output_type": "stream",
     "text": [
      "781.7065308538683: 100%|██████████| 3378/3378 [03:11<00:00, 17.67it/s]\n"
     ]
    },
    {
     "name": "stdout",
     "output_type": "stream",
     "text": [
      "valid samples: 189091.0\n",
      "Eval MSE:  100.14598989375486\n",
      "Eval RMSE: pm10:  10.007296832499517\n",
      "Eval MAPE: pm10:  89.01756772367537\n",
      "CosFormer\n",
      "Best MSE : 99.38735185704238\n",
      "RMSE : 9.969320531362325\n",
      "MAPE : 87.76678261475294\n",
      "\n",
      "set SoftDTW loss\n",
      "Start CosSquareFormer training\n"
     ]
    },
    {
     "name": "stderr",
     "output_type": "stream",
     "text": [
      "781.3259267496454: 100%|██████████| 3378/3378 [03:03<00:00, 18.37it/s]\n"
     ]
    },
    {
     "name": "stdout",
     "output_type": "stream",
     "text": [
      "valid samples: 189091.0\n",
      "Eval MSE:  102.84227699890529\n",
      "Eval RMSE: pm10:  10.141118133564232\n",
      "Eval MAPE: pm10:  92.85246484331618\n"
     ]
    },
    {
     "name": "stderr",
     "output_type": "stream",
     "text": [
      "781.5131850166388: 100%|██████████| 3378/3378 [02:59<00:00, 18.84it/s]\n"
     ]
    },
    {
     "name": "stdout",
     "output_type": "stream",
     "text": [
      "valid samples: 189091.0\n",
      "Eval MSE:  101.60208180188376\n",
      "Eval RMSE: pm10:  10.079785801389024\n",
      "Eval MAPE: pm10:  91.1847462002422\n"
     ]
    },
    {
     "name": "stderr",
     "output_type": "stream",
     "text": [
      "781.3769936615222: 100%|██████████| 3378/3378 [03:06<00:00, 18.11it/s]\n"
     ]
    },
    {
     "name": "stdout",
     "output_type": "stream",
     "text": [
      "valid samples: 189091.0\n",
      "Eval MSE:  102.34575878809673\n",
      "Eval RMSE: pm10:  10.11660806733644\n",
      "Eval MAPE: pm10:  92.20108834420331\n"
     ]
    },
    {
     "name": "stderr",
     "output_type": "stream",
     "text": [
      "781.2661459083167: 100%|██████████| 3378/3378 [02:57<00:00, 19.00it/s]\n"
     ]
    },
    {
     "name": "stdout",
     "output_type": "stream",
     "text": [
      "valid samples: 189091.0\n",
      "Eval MSE:  101.1814695041012\n",
      "Eval RMSE: pm10:  10.058900014618954\n",
      "Eval MAPE: pm10:  90.58507161812963\n"
     ]
    },
    {
     "name": "stderr",
     "output_type": "stream",
     "text": [
      "781.4016415701607: 100%|██████████| 3378/3378 [02:55<00:00, 19.24it/s]\n"
     ]
    },
    {
     "name": "stdout",
     "output_type": "stream",
     "text": [
      "valid samples: 189091.0\n",
      "Eval MSE:  102.08907417592587\n",
      "Eval RMSE: pm10:  10.10391380485433\n",
      "Eval MAPE: pm10:  91.85631490343935\n"
     ]
    },
    {
     "name": "stderr",
     "output_type": "stream",
     "text": [
      "781.364634765119: 100%|██████████| 3378/3378 [03:07<00:00, 18.02it/s] \n"
     ]
    },
    {
     "name": "stdout",
     "output_type": "stream",
     "text": [
      "valid samples: 189091.0\n",
      "Eval MSE:  101.55021986768276\n",
      "Eval RMSE: pm10:  10.07721290177412\n",
      "Eval MAPE: pm10:  91.11185377923195\n"
     ]
    },
    {
     "name": "stderr",
     "output_type": "stream",
     "text": [
      "781.6743919774573: 100%|██████████| 3378/3378 [03:08<00:00, 17.92it/s]\n"
     ]
    },
    {
     "name": "stdout",
     "output_type": "stream",
     "text": [
      "valid samples: 189091.0\n",
      "Eval MSE:  102.66834288781592\n",
      "Eval RMSE: pm10:  10.132538817483796\n",
      "Eval MAPE: pm10:  92.62685835622796\n"
     ]
    },
    {
     "name": "stderr",
     "output_type": "stream",
     "text": [
      "781.4517403032877: 100%|██████████| 3378/3378 [03:08<00:00, 17.93it/s]\n"
     ]
    },
    {
     "name": "stdout",
     "output_type": "stream",
     "text": [
      "valid samples: 189091.0\n",
      "Eval MSE:  103.61414940425509\n",
      "Eval RMSE: pm10:  10.179103565847784\n",
      "Eval MAPE: pm10:  93.82786429549793\n"
     ]
    },
    {
     "name": "stderr",
     "output_type": "stream",
     "text": [
      "781.3831981119146: 100%|██████████| 3378/3378 [03:08<00:00, 17.87it/s]\n"
     ]
    },
    {
     "name": "stdout",
     "output_type": "stream",
     "text": [
      "valid samples: 189091.0\n",
      "Eval MSE:  99.93356307280621\n",
      "Eval RMSE: pm10:  9.996677601723794\n",
      "Eval MAPE: pm10:  88.67692434214875\n"
     ]
    },
    {
     "name": "stderr",
     "output_type": "stream",
     "text": [
      "781.3231859495112: 100%|██████████| 3378/3378 [03:09<00:00, 17.86it/s]\n"
     ]
    },
    {
     "name": "stdout",
     "output_type": "stream",
     "text": [
      "valid samples: 189091.0\n",
      "Eval MSE:  102.5302017282684\n",
      "Eval RMSE: pm10:  10.125719812846315\n",
      "Eval MAPE: pm10:  92.44572295465542\n",
      "CosSquareFormer\n",
      "Best MSE : 99.93356307280621\n",
      "RMSE : 9.996677601723794\n",
      "MAPE : 88.67692434214875\n",
      "\n"
     ]
    }
   ],
   "source": [
    "# RNN\n",
    "RNNmodel = RNN(1, INPUT_DIM, HIDDEN_DIM, LAYER_DIM).to(device)\n",
    "train(trainLoader, testLoader, RNNmodel, \"RNN\", SELECTED_COLUMN)\n",
    "# LSTM\n",
    "LSTMmodel = LSTM(1, INPUT_DIM, HIDDEN_DIM, LAYER_DIM).to(device)\n",
    "train(trainLoader, testLoader, LSTMmodel, \"LSTM\", SELECTED_COLUMN)\n",
    "# # BiLSTM\n",
    "# # BiLSTMmodel = LSTM(1, INPUT_DIM+1, HIDDEN_DIM, LAYER_DIM, bidirectional=True).to(device)\n",
    "# # train(trainLoader, testLoader, BiLSTMmodel, \"BiLSTM\", SELECTED_COLUMN)\n",
    "# # TransLSTM\n",
    "# TransLSTMmodel = TransLSTM(num_layers=3, D=16, H=5, hidden_mlp_dim=32, inp_features=2, out_features=1, dropout_rate=0.2, LSTM_module = LSTM(1, INPUT_DIM, HIDDEN_DIM, LAYER_DIM, bidirectional = False).to(device), attention_type='regular').to(device) # cosine_square, cosine, regular # 6L, 12H\n",
    "# train(trainLoader, testLoader, TransLSTMmodel, \"TransLSTM\", SELECTED_COLUMN, mask=True)\n",
    "# Transformer\n",
    "Transmodel = Transformer(num_layers=6, D=16, H=10, hidden_mlp_dim=32, inp_features=2, out_features=1, dropout_rate=0.1, attention_type='regular', SL=SEQ_LENGTH).to(device) # cosine_square, cosine, regular # 6L, 12H\n",
    "train(trainLoader, testLoader, Transmodel, \"Transformer\", SELECTED_COLUMN, mask=True)\n",
    "# CosFormer\n",
    "TransCosModel = Transformer(num_layers=6, D=16, H=10, hidden_mlp_dim=32, inp_features=2, out_features=1, dropout_rate=0.1, attention_type='cosine', SL=SEQ_LENGTH).to(device) # cosine_square, cosine, regular # 6L, 12\n",
    "train(trainLoader, testLoader, TransCosModel, \"CosFormer\", SELECTED_COLUMN, mask=True)\n",
    "# CosSquareFormer\n",
    "TransCosSquare = Transformer(num_layers=6, D=16, H=10, hidden_mlp_dim=32, inp_features=2, out_features=1, dropout_rate=0.1, attention_type='cosine_square', SL=SEQ_LENGTH).to(device) # cosine_square, cosine, regular # 6L, 12H\n",
    "train(trainLoader, testLoader, TransCosModel, \"CosSquareFormer\", SELECTED_COLUMN, mask=True)"
   ]
  },
  {
   "cell_type": "code",
   "execution_count": 11,
   "metadata": {},
   "outputs": [
    {
     "name": "stdout",
     "output_type": "stream",
     "text": [
      "set l1,l2 loss\n",
      "Start OLS training\n"
     ]
    },
    {
     "name": "stderr",
     "output_type": "stream",
     "text": [
      "203.72150644400617: 100%|██████████| 3378/3378 [00:41<00:00, 81.22it/s] \n"
     ]
    },
    {
     "name": "stdout",
     "output_type": "stream",
     "text": [
      "valid samples: 189091.0\n",
      "Eval MSE:  108.87969681264576\n",
      "Eval RMSE: pm10:  10.434543440546202\n",
      "Eval MAPE: pm10:  99.56953751351863\n"
     ]
    },
    {
     "name": "stderr",
     "output_type": "stream",
     "text": [
      "180.96291060416675: 100%|██████████| 3378/3378 [00:41<00:00, 81.61it/s] \n"
     ]
    },
    {
     "name": "stdout",
     "output_type": "stream",
     "text": [
      "valid samples: 189091.0\n",
      "Eval MSE:  104.78717984991353\n",
      "Eval RMSE: pm10:  10.23656093861183\n",
      "Eval MAPE: pm10:  95.66270237445198\n"
     ]
    },
    {
     "name": "stderr",
     "output_type": "stream",
     "text": [
      "180.6745347112791: 100%|██████████| 3378/3378 [00:41<00:00, 81.00it/s]  \n"
     ]
    },
    {
     "name": "stdout",
     "output_type": "stream",
     "text": [
      "valid samples: 189091.0\n",
      "Eval MSE:  107.01561086989862\n",
      "Eval RMSE: pm10:  10.344834985145903\n",
      "Eval MAPE: pm10:  98.51854150250409\n"
     ]
    },
    {
     "name": "stderr",
     "output_type": "stream",
     "text": [
      "180.40902051818438: 100%|██████████| 3378/3378 [00:41<00:00, 80.73it/s] \n"
     ]
    },
    {
     "name": "stdout",
     "output_type": "stream",
     "text": [
      "valid samples: 189091.0\n",
      "Eval MSE:  103.8433260969586\n",
      "Eval RMSE: pm10:  10.190354561886382\n",
      "Eval MAPE: pm10:  95.18421561906702\n"
     ]
    },
    {
     "name": "stderr",
     "output_type": "stream",
     "text": [
      "180.07193620251556: 100%|██████████| 3378/3378 [00:41<00:00, 82.20it/s] \n"
     ]
    },
    {
     "name": "stdout",
     "output_type": "stream",
     "text": [
      "valid samples: 189091.0\n",
      "Eval MSE:  105.89556020646144\n",
      "Eval RMSE: pm10:  10.290556846277147\n",
      "Eval MAPE: pm10:  97.70505824163365\n"
     ]
    },
    {
     "name": "stderr",
     "output_type": "stream",
     "text": [
      "179.8786736234821: 100%|██████████| 3378/3378 [00:42<00:00, 79.23it/s]  \n"
     ]
    },
    {
     "name": "stdout",
     "output_type": "stream",
     "text": [
      "valid samples: 189091.0\n",
      "Eval MSE:  104.64577438905077\n",
      "Eval RMSE: pm10:  10.229651723741663\n",
      "Eval MAPE: pm10:  96.47078768869882\n"
     ]
    },
    {
     "name": "stderr",
     "output_type": "stream",
     "text": [
      "179.66274859878408: 100%|██████████| 3378/3378 [00:41<00:00, 80.72it/s] \n"
     ]
    },
    {
     "name": "stdout",
     "output_type": "stream",
     "text": [
      "valid samples: 189091.0\n",
      "Eval MSE:  105.34092910291871\n",
      "Eval RMSE: pm10:  10.26357292091398\n",
      "Eval MAPE: pm10:  97.34481141024692\n"
     ]
    },
    {
     "name": "stderr",
     "output_type": "stream",
     "text": [
      "179.36105873713183: 100%|██████████| 3378/3378 [00:42<00:00, 80.40it/s] \n"
     ]
    },
    {
     "name": "stdout",
     "output_type": "stream",
     "text": [
      "valid samples: 189091.0\n",
      "Eval MSE:  102.67195027790852\n",
      "Eval RMSE: pm10:  10.132716826098937\n",
      "Eval MAPE: pm10:  94.38114246249161\n"
     ]
    },
    {
     "name": "stderr",
     "output_type": "stream",
     "text": [
      "179.09707303383155: 100%|██████████| 3378/3378 [00:41<00:00, 81.86it/s] \n"
     ]
    },
    {
     "name": "stdout",
     "output_type": "stream",
     "text": [
      "valid samples: 189091.0\n",
      "Eval MSE:  103.99289958274059\n",
      "Eval RMSE: pm10:  10.197690894645739\n",
      "Eval MAPE: pm10:  96.05271228122307\n"
     ]
    },
    {
     "name": "stderr",
     "output_type": "stream",
     "text": [
      "178.88511815813598: 100%|██████████| 3378/3378 [00:41<00:00, 80.74it/s] \n"
     ]
    },
    {
     "name": "stdout",
     "output_type": "stream",
     "text": [
      "valid samples: 189091.0\n",
      "Eval MSE:  103.3845965699055\n",
      "Eval RMSE: pm10:  10.167821623627427\n",
      "Eval MAPE: pm10:  95.42888534819214\n",
      "OLS\n",
      "Best MSE : 102.67195027790852\n",
      "RMSE : 10.132716826098937\n",
      "MAPE : 94.38114246249161\n",
      "\n",
      "set l1,l2 loss\n",
      "Start LASSO training\n"
     ]
    },
    {
     "name": "stderr",
     "output_type": "stream",
     "text": [
      "345.72200244386335: 100%|██████████| 3378/3378 [00:41<00:00, 80.67it/s] \n"
     ]
    },
    {
     "name": "stdout",
     "output_type": "stream",
     "text": [
      "valid samples: 189091.0\n",
      "Eval MSE:  105.90146344881565\n",
      "Eval RMSE: pm10:  10.290843670409908\n",
      "Eval MAPE: pm10:  98.81679664569573\n"
     ]
    },
    {
     "name": "stderr",
     "output_type": "stream",
     "text": [
      "180.26845192217587: 100%|██████████| 3378/3378 [00:42<00:00, 80.13it/s]\n"
     ]
    },
    {
     "name": "stdout",
     "output_type": "stream",
     "text": [
      "valid samples: 189091.0\n",
      "Eval MSE:  105.56932905320718\n",
      "Eval RMSE: pm10:  10.274693623325573\n",
      "Eval MAPE: pm10:  98.18374228132883\n"
     ]
    },
    {
     "name": "stderr",
     "output_type": "stream",
     "text": [
      "180.00503292162796: 100%|██████████| 3378/3378 [00:41<00:00, 81.31it/s] \n"
     ]
    },
    {
     "name": "stdout",
     "output_type": "stream",
     "text": [
      "valid samples: 189091.0\n",
      "Eval MSE:  109.47591106927352\n",
      "Eval RMSE: pm10:  10.463073691285631\n",
      "Eval MAPE: pm10:  101.8547467513988\n"
     ]
    },
    {
     "name": "stderr",
     "output_type": "stream",
     "text": [
      "179.70143056861622: 100%|██████████| 3378/3378 [00:42<00:00, 79.50it/s] \n"
     ]
    },
    {
     "name": "stdout",
     "output_type": "stream",
     "text": [
      "valid samples: 189091.0\n",
      "Eval MSE:  104.04032317772923\n",
      "Eval RMSE: pm10:  10.200015842033249\n",
      "Eval MAPE: pm10:  96.15089531131837\n"
     ]
    },
    {
     "name": "stderr",
     "output_type": "stream",
     "text": [
      "179.36525577931366: 100%|██████████| 3378/3378 [00:41<00:00, 80.77it/s] \n"
     ]
    },
    {
     "name": "stdout",
     "output_type": "stream",
     "text": [
      "valid samples: 189091.0\n",
      "Eval MSE:  103.11619537682914\n",
      "Eval RMSE: pm10:  10.154614486864045\n",
      "Eval MAPE: pm10:  95.04805122764965\n"
     ]
    },
    {
     "name": "stderr",
     "output_type": "stream",
     "text": [
      "179.17499445231434: 100%|██████████| 3378/3378 [00:37<00:00, 90.68it/s] \n"
     ]
    },
    {
     "name": "stdout",
     "output_type": "stream",
     "text": [
      "valid samples: 189091.0\n",
      "Eval MSE:  103.4300674014099\n",
      "Eval RMSE: pm10:  10.170057394204317\n",
      "Eval MAPE: pm10:  95.46621701406333\n"
     ]
    },
    {
     "name": "stderr",
     "output_type": "stream",
     "text": [
      "178.90716157713325: 100%|██████████| 3378/3378 [00:30<00:00, 110.05it/s]\n"
     ]
    },
    {
     "name": "stdout",
     "output_type": "stream",
     "text": [
      "valid samples: 189091.0\n",
      "Eval MSE:  110.29023459604106\n",
      "Eval RMSE: pm10:  10.50191575837671\n",
      "Eval MAPE: pm10:  102.58337865019355\n"
     ]
    },
    {
     "name": "stderr",
     "output_type": "stream",
     "text": [
      "178.69541982873184: 100%|██████████| 3378/3378 [00:30<00:00, 112.59it/s]\n"
     ]
    },
    {
     "name": "stdout",
     "output_type": "stream",
     "text": [
      "valid samples: 189091.0\n",
      "Eval MSE:  106.97761725835709\n",
      "Eval RMSE: pm10:  10.342998465549393\n",
      "Eval MAPE: pm10:  99.46119382499697\n"
     ]
    },
    {
     "name": "stderr",
     "output_type": "stream",
     "text": [
      "178.48814067083967: 100%|██████████| 3378/3378 [00:30<00:00, 111.83it/s]\n"
     ]
    },
    {
     "name": "stdout",
     "output_type": "stream",
     "text": [
      "valid samples: 189091.0\n",
      "Eval MSE:  104.14348977476453\n",
      "Eval RMSE: pm10:  10.205071767252033\n",
      "Eval MAPE: pm10:  96.53126101073688\n"
     ]
    },
    {
     "name": "stderr",
     "output_type": "stream",
     "text": [
      "178.2588090710275: 100%|██████████| 3378/3378 [00:30<00:00, 112.36it/s] \n"
     ]
    },
    {
     "name": "stdout",
     "output_type": "stream",
     "text": [
      "valid samples: 189091.0\n",
      "Eval MSE:  106.23520289172937\n",
      "Eval RMSE: pm10:  10.30704627387155\n",
      "Eval MAPE: pm10:  98.8542274701731\n",
      "LASSO\n",
      "Best MSE : 103.11619537682914\n",
      "RMSE : 10.154614486864045\n",
      "MAPE : 95.04805122764965\n",
      "\n",
      "set l1,l2 loss\n",
      "Start Ridge training\n"
     ]
    },
    {
     "name": "stderr",
     "output_type": "stream",
     "text": [
      "202.0228762177761: 100%|██████████| 3378/3378 [00:30<00:00, 110.11it/s] \n"
     ]
    },
    {
     "name": "stdout",
     "output_type": "stream",
     "text": [
      "valid samples: 189091.0\n",
      "Eval MSE:  106.13250432331523\n",
      "Eval RMSE: pm10:  10.30206311004331\n",
      "Eval MAPE: pm10:  95.2382926945558\n"
     ]
    },
    {
     "name": "stderr",
     "output_type": "stream",
     "text": [
      "181.09486253646915: 100%|██████████| 3378/3378 [00:30<00:00, 111.09it/s]\n"
     ]
    },
    {
     "name": "stdout",
     "output_type": "stream",
     "text": [
      "valid samples: 189091.0\n",
      "Eval MSE:  109.18029678831886\n",
      "Eval RMSE: pm10:  10.448937591368745\n",
      "Eval MAPE: pm10:  99.81373727216658\n"
     ]
    },
    {
     "name": "stderr",
     "output_type": "stream",
     "text": [
      "180.68974901925438: 100%|██████████| 3378/3378 [00:30<00:00, 111.77it/s]\n"
     ]
    },
    {
     "name": "stdout",
     "output_type": "stream",
     "text": [
      "valid samples: 189091.0\n",
      "Eval MSE:  103.12464699536203\n",
      "Eval RMSE: pm10:  10.155030625033191\n",
      "Eval MAPE: pm10:  93.62531063499189\n"
     ]
    },
    {
     "name": "stderr",
     "output_type": "stream",
     "text": [
      "180.3218132762111: 100%|██████████| 3378/3378 [00:30<00:00, 111.23it/s] \n"
     ]
    },
    {
     "name": "stdout",
     "output_type": "stream",
     "text": [
      "valid samples: 189091.0\n",
      "Eval MSE:  106.86374285396978\n",
      "Eval RMSE: pm10:  10.337492096924175\n",
      "Eval MAPE: pm10:  98.4222621110669\n"
     ]
    },
    {
     "name": "stderr",
     "output_type": "stream",
     "text": [
      "180.02819546755458: 100%|██████████| 3378/3378 [00:30<00:00, 111.30it/s]\n"
     ]
    },
    {
     "name": "stdout",
     "output_type": "stream",
     "text": [
      "valid samples: 189091.0\n",
      "Eval MSE:  109.05065087709093\n",
      "Eval RMSE: pm10:  10.442731964246278\n",
      "Eval MAPE: pm10:  100.88054443280616\n"
     ]
    },
    {
     "name": "stderr",
     "output_type": "stream",
     "text": [
      "179.77372632611045: 100%|██████████| 3378/3378 [00:30<00:00, 110.88it/s]\n"
     ]
    },
    {
     "name": "stdout",
     "output_type": "stream",
     "text": [
      "valid samples: 189091.0\n",
      "Eval MSE:  103.88969464437757\n",
      "Eval RMSE: pm10:  10.192629427403784\n",
      "Eval MAPE: pm10:  95.56141960501161\n"
     ]
    },
    {
     "name": "stderr",
     "output_type": "stream",
     "text": [
      "179.50489371002175: 100%|██████████| 3378/3378 [00:30<00:00, 110.82it/s]\n"
     ]
    },
    {
     "name": "stdout",
     "output_type": "stream",
     "text": [
      "valid samples: 189091.0\n",
      "Eval MSE:  102.56831961859633\n",
      "Eval RMSE: pm10:  10.127601869080179\n",
      "Eval MAPE: pm10:  94.12717609758661\n"
     ]
    },
    {
     "name": "stderr",
     "output_type": "stream",
     "text": [
      "179.27059703101898: 100%|██████████| 3378/3378 [00:30<00:00, 112.07it/s]\n"
     ]
    },
    {
     "name": "stdout",
     "output_type": "stream",
     "text": [
      "valid samples: 189091.0\n",
      "Eval MSE:  107.00461351941658\n",
      "Eval RMSE: pm10:  10.344303433262995\n",
      "Eval MAPE: pm10:  99.21696411218673\n"
     ]
    },
    {
     "name": "stderr",
     "output_type": "stream",
     "text": [
      "179.0747002612351: 100%|██████████| 3378/3378 [00:30<00:00, 110.79it/s] \n"
     ]
    },
    {
     "name": "stdout",
     "output_type": "stream",
     "text": [
      "valid samples: 189091.0\n",
      "Eval MSE:  103.93592767503478\n",
      "Eval RMSE: pm10:  10.194897139011985\n",
      "Eval MAPE: pm10:  95.98694998373799\n"
     ]
    },
    {
     "name": "stderr",
     "output_type": "stream",
     "text": [
      "178.8526917170181: 100%|██████████| 3378/3378 [00:30<00:00, 111.32it/s] \n"
     ]
    },
    {
     "name": "stdout",
     "output_type": "stream",
     "text": [
      "valid samples: 189091.0\n",
      "Eval MSE:  102.87806333987339\n",
      "Eval RMSE: pm10:  10.142882398010606\n",
      "Eval MAPE: pm10:  94.85255745332275\n",
      "Ridge\n",
      "Best MSE : 102.56831961859633\n",
      "RMSE : 10.127601869080179\n",
      "MAPE : 94.12717609758661\n",
      "\n",
      "set l1,l2 loss\n",
      "Start Elastic training\n"
     ]
    },
    {
     "name": "stderr",
     "output_type": "stream",
     "text": [
      "190.6016258772766: 100%|██████████| 3378/3378 [00:30<00:00, 110.25it/s] \n"
     ]
    },
    {
     "name": "stdout",
     "output_type": "stream",
     "text": [
      "valid samples: 189091.0\n",
      "Eval MSE:  106.92681830441428\n",
      "Eval RMSE: pm10:  10.34054245697073\n",
      "Eval MAPE: pm10:  99.03332237355295\n"
     ]
    },
    {
     "name": "stderr",
     "output_type": "stream",
     "text": [
      "180.96457954890025: 100%|██████████| 3378/3378 [00:30<00:00, 109.96it/s]\n"
     ]
    },
    {
     "name": "stdout",
     "output_type": "stream",
     "text": [
      "valid samples: 189091.0\n",
      "Eval MSE:  109.54600033846138\n",
      "Eval RMSE: pm10:  10.466422518628864\n",
      "Eval MAPE: pm10:  101.51797623647477\n"
     ]
    },
    {
     "name": "stderr",
     "output_type": "stream",
     "text": [
      "180.70550683689513: 100%|██████████| 3378/3378 [00:30<00:00, 110.57it/s]\n"
     ]
    },
    {
     "name": "stdout",
     "output_type": "stream",
     "text": [
      "valid samples: 189091.0\n",
      "Eval MSE:  109.84870313764272\n",
      "Eval RMSE: pm10:  10.48087320492156\n",
      "Eval MAPE: pm10:  101.77161362204575\n"
     ]
    },
    {
     "name": "stderr",
     "output_type": "stream",
     "text": [
      "180.41073576778678: 100%|██████████| 3378/3378 [00:30<00:00, 111.97it/s]\n"
     ]
    },
    {
     "name": "stdout",
     "output_type": "stream",
     "text": [
      "valid samples: 189091.0\n",
      "Eval MSE:  113.19699443654113\n",
      "Eval RMSE: pm10:  10.639407616805606\n",
      "Eval MAPE: pm10:  104.81873383301559\n"
     ]
    },
    {
     "name": "stderr",
     "output_type": "stream",
     "text": [
      "180.25171384252408: 100%|██████████| 3378/3378 [00:30<00:00, 110.17it/s]\n"
     ]
    },
    {
     "name": "stdout",
     "output_type": "stream",
     "text": [
      "valid samples: 189091.0\n",
      "Eval MSE:  105.61466436794983\n",
      "Eval RMSE: pm10:  10.276899550348336\n",
      "Eval MAPE: pm10:  97.51578666984415\n"
     ]
    },
    {
     "name": "stderr",
     "output_type": "stream",
     "text": [
      "179.87810828376615: 100%|██████████| 3378/3378 [00:30<00:00, 110.31it/s]\n"
     ]
    },
    {
     "name": "stdout",
     "output_type": "stream",
     "text": [
      "valid samples: 189091.0\n",
      "Eval MSE:  108.08985224045566\n",
      "Eval RMSE: pm10:  10.396626964571523\n",
      "Eval MAPE: pm10:  100.15051140224813\n"
     ]
    },
    {
     "name": "stderr",
     "output_type": "stream",
     "text": [
      "179.6479992321642: 100%|██████████| 3378/3378 [00:30<00:00, 112.12it/s] \n"
     ]
    },
    {
     "name": "stdout",
     "output_type": "stream",
     "text": [
      "valid samples: 189091.0\n",
      "Eval MSE:  106.881172953763\n",
      "Eval RMSE: pm10:  10.338335115179959\n",
      "Eval MAPE: pm10:  99.01097501913762\n"
     ]
    },
    {
     "name": "stderr",
     "output_type": "stream",
     "text": [
      "179.42616782518678: 100%|██████████| 3378/3378 [00:30<00:00, 110.70it/s]\n"
     ]
    },
    {
     "name": "stdout",
     "output_type": "stream",
     "text": [
      "valid samples: 189091.0\n",
      "Eval MSE:  104.52367709198217\n",
      "Eval RMSE: pm10:  10.223682168963498\n",
      "Eval MAPE: pm10:  96.55068112046581\n"
     ]
    },
    {
     "name": "stderr",
     "output_type": "stream",
     "text": [
      "179.1596175284693: 100%|██████████| 3378/3378 [00:30<00:00, 111.60it/s] \n"
     ]
    },
    {
     "name": "stdout",
     "output_type": "stream",
     "text": [
      "valid samples: 189091.0\n",
      "Eval MSE:  104.37762571989148\n",
      "Eval RMSE: pm10:  10.216536875081081\n",
      "Eval MAPE: pm10:  96.5000549710523\n"
     ]
    },
    {
     "name": "stderr",
     "output_type": "stream",
     "text": [
      "179.0007969069719: 100%|██████████| 3378/3378 [00:30<00:00, 110.29it/s] \n"
     ]
    },
    {
     "name": "stdout",
     "output_type": "stream",
     "text": [
      "valid samples: 189091.0\n",
      "Eval MSE:  104.54399931778879\n",
      "Eval RMSE: pm10:  10.224676000626562\n",
      "Eval MAPE: pm10:  96.77076726202596\n",
      "Elastic\n",
      "Best MSE : 104.37762571989148\n",
      "RMSE : 10.216536875081081\n",
      "MAPE : 96.5000549710523\n",
      "\n"
     ]
    }
   ],
   "source": [
    "OLS = LinearRegression(input_dim=2)\n",
    "train(trainLoader, testLoader, OLS, \"OLS\", SELECTED_COLUMN, LUR=True)\n",
    "LASSO = LinearRegression(input_dim=2)\n",
    "train(trainLoader, testLoader, LASSO, \"LASSO\", SELECTED_COLUMN, LUR=True, l1=True)\n",
    "Ridge = LinearRegression(input_dim=2)\n",
    "train(trainLoader, testLoader, Ridge, \"Ridge\", SELECTED_COLUMN, LUR=True, l2=True)\n",
    "Elastic = LinearRegression(input_dim=2)\n",
    "train(trainLoader, testLoader, Elastic, \"Elastic\", SELECTED_COLUMN, LUR=True, l1=True, l2=True)"
   ]
  },
  {
   "cell_type": "code",
   "execution_count": null,
   "metadata": {},
   "outputs": [],
   "source": []
  }
 ],
 "metadata": {
  "kernelspec": {
   "display_name": "ma",
   "language": "python",
   "name": "python3"
  },
  "language_info": {
   "codemirror_mode": {
    "name": "ipython",
    "version": 3
   },
   "file_extension": ".py",
   "mimetype": "text/x-python",
   "name": "python",
   "nbconvert_exporter": "python",
   "pygments_lexer": "ipython3",
   "version": "3.9.16"
  },
  "orig_nbformat": 4
 },
 "nbformat": 4,
 "nbformat_minor": 2
}
