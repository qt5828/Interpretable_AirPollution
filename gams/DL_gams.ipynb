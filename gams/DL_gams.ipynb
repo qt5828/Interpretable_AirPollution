{
 "cells": [
  {
   "cell_type": "code",
   "execution_count": 1,
   "metadata": {},
   "outputs": [],
   "source": [
    "import pandas as pd\n",
    "import numpy as np\n",
    "from torch.utils.data import DataLoader\n",
    "\n",
    "import lime\n",
    "\n",
    "import matplotlib.pyplot as plt\n",
    "import os \n",
    "import sys\n",
    "import random\n",
    "import warnings\n",
    "\n",
    "import torch\n",
    "\n",
    "\n",
    "warnings.filterwarnings(\"ignore\")\n",
    "\n",
    "SEED_VALUE = 100\n",
    "os.environ['PYTHONHASHSEED'] = str(SEED_VALUE)\n",
    "random.seed(SEED_VALUE)\n",
    "np.random.seed(SEED_VALUE)\n",
    "torch.manual_seed(SEED_VALUE)\n",
    "torch.cuda.manual_seed(SEED_VALUE)\n",
    "torch.cuda.manual_seed_all(SEED_VALUE)\n",
    "\n",
    "\n",
    "torch.backends.cudnn.deterministic = True\n",
    "torch.backends.cudnn.benchmark = False"
   ]
  },
  {
   "cell_type": "code",
   "execution_count": 2,
   "metadata": {},
   "outputs": [
    {
     "data": {
      "text/plain": [
       "<torch._C.Generator at 0x7f18a1f7d310>"
      ]
     },
     "execution_count": 2,
     "metadata": {},
     "output_type": "execute_result"
    }
   ],
   "source": [
    "def seed_worker(worker_id):\n",
    "    worker_seed = torch.initial_seed() % 2**32\n",
    "    np.random.seed(worker_seed)\n",
    "    random.seed(worker_seed)\n",
    "    \n",
    "g = torch.Generator()\n",
    "g.manual_seed(0)"
   ]
  },
  {
   "attachments": {},
   "cell_type": "markdown",
   "metadata": {},
   "source": [
    "# city pollution data"
   ]
  },
  {
   "cell_type": "code",
   "execution_count": 3,
   "metadata": {},
   "outputs": [],
   "source": [
    "time_series_data = pd.read_csv(\"./data/gams_indoor.csv\")\n",
    "\n",
    "\n",
    "DROP_ONEHOT = True\n",
    "SEQ_LENGTH = 7\n",
    "\n",
    "\n",
    "if DROP_ONEHOT:\n",
    "  INPUT_DIM = 2\n",
    "# else:\n",
    "#   INPUT_DIM = 29\n",
    "\n",
    "HIDDEN_DIM = 32\n",
    "LAYER_DIM = 3\n",
    "\n",
    "\n",
    "normalization_type = 'mean_std' # 'max', mean_std"
   ]
  },
  {
   "cell_type": "code",
   "execution_count": 4,
   "metadata": {},
   "outputs": [
    {
     "name": "stdout",
     "output_type": "stream",
     "text": [
      "Train data:                          ts    co2  humidity  pm10  pm25  temperature    voc\n",
      "0       2016-11-21 00:47:03  708.0     72.09  10.2   9.0        20.83  0.062\n",
      "1       2016-11-21 00:48:03  694.0     70.95  10.9  10.1        21.01  0.062\n",
      "2       2016-11-21 00:49:03  693.0     69.12  10.2   9.9        21.20  0.062\n",
      "3       2016-11-21 00:50:03  692.0     68.83   9.6   9.6        21.37  0.062\n",
      "4       2016-11-21 00:51:03  690.0     68.60   9.4   8.4        21.49  0.062\n",
      "...                     ...    ...       ...   ...   ...          ...    ...\n",
      "108074  2017-03-09 14:22:02  626.0     33.61  37.8  33.9        24.16  0.062\n",
      "108075  2017-03-09 14:23:02  627.0     33.65  35.9  33.8        24.15  0.062\n",
      "108076  2017-03-09 14:24:02  625.0     33.65  37.3  33.2        24.14  0.062\n",
      "108077  2017-03-09 14:25:02  625.0     33.56  37.0  33.4        24.18  0.062\n",
      "108078  2017-03-09 14:26:02  624.0     33.54  38.5  34.1        24.21  0.063\n",
      "\n",
      "[108079 rows x 7 columns]\n",
      "Test data:                          ts     co2  humidity  pm10  pm25  temperature    voc\n",
      "108079  2017-03-09 14:27:02   623.0     33.46  37.4  34.1        24.27  0.062\n",
      "108080  2017-03-09 14:28:02   622.0     33.46  40.1  35.2        24.26  0.062\n",
      "108081  2017-03-09 14:30:02   617.0     33.46  36.5  32.1        24.24  0.065\n",
      "108082  2017-03-09 14:31:02   618.0     33.54  34.3  31.5        24.22  0.062\n",
      "108083  2017-03-09 14:32:02   615.0     33.52  35.5  32.4        24.20  0.063\n",
      "...                     ...     ...       ...   ...   ...          ...    ...\n",
      "135094  2017-03-28 09:26:03  1359.0     39.55   6.3   4.4        26.93  0.148\n",
      "135095  2017-03-28 09:27:03  1350.0     39.49   5.6   4.2        26.92  0.152\n",
      "135096  2017-03-28 09:28:03  1353.0     39.42   6.3   4.6        26.91  0.147\n",
      "135097  2017-03-28 09:29:03  1348.0     39.55   5.7   4.3        26.92  0.148\n",
      "135098  2017-03-28 09:30:03  1363.0     39.55   5.8   4.2        26.90  0.139\n",
      "\n",
      "[27020 rows x 7 columns]\n"
     ]
    }
   ],
   "source": [
    "import pandas as pd\n",
    "\n",
    "# 데이터를 시간 순서대로 정렬합니다.\n",
    "time_series_data = time_series_data.sort_values(by='ts')\n",
    "\n",
    "# 훈련 데이터와 테스트 데이터의 기간을 결정합니다.\n",
    "train_end_time = '2017-03-09 14:26:02'\n",
    "test_start_time = '2017-03-09 14:27:02'\n",
    "\n",
    "# 기준 시간을 기준으로 데이터를 분할합니다.\n",
    "train_data = time_series_data[time_series_data['ts'] <= train_end_time]\n",
    "test_data = time_series_data[time_series_data['ts'] >= test_start_time]\n",
    "\n",
    "print(\"Train data:\", train_data)\n",
    "print(\"Test data:\", test_data)"
   ]
  },
  {
   "cell_type": "code",
   "execution_count": 5,
   "metadata": {},
   "outputs": [
    {
     "name": "stdout",
     "output_type": "stream",
     "text": [
      "        humidity  temperature  pm25\n",
      "0          72.09        20.83   9.0\n",
      "1          70.95        21.01  10.1\n",
      "2          69.12        21.20   9.9\n",
      "3          68.83        21.37   9.6\n",
      "4          68.60        21.49   8.4\n",
      "...          ...          ...   ...\n",
      "108074     33.61        24.16  33.9\n",
      "108075     33.65        24.15  33.8\n",
      "108076     33.65        24.14  33.2\n",
      "108077     33.56        24.18  33.4\n",
      "108078     33.54        24.21  34.1\n",
      "\n",
      "[108079 rows x 3 columns]\n"
     ]
    }
   ],
   "source": [
    "features = ['humidity','temperature']\n",
    "SELECTED_COLUMN = \"pm25\" # ['co2','pm10','pm25','voc']\n",
    "train_data = train_data[features + [SELECTED_COLUMN]]\n",
    "test_data = test_data[features + [SELECTED_COLUMN]]\n",
    "\n",
    "print(train_data)"
   ]
  },
  {
   "cell_type": "code",
   "execution_count": 6,
   "metadata": {},
   "outputs": [],
   "source": [
    "class GamsIndoor(torch.utils.data.Dataset):\n",
    "  def __init__(self, data, selected_column, seq_length):\n",
    "    self.selected_column = selected_column\n",
    "    self.data = data \n",
    "    self.seq_length = seq_length\n",
    "\n",
    "  def __getitem__(self, idx):\n",
    "    seq = self.data[features][idx:idx+self.seq_length]\n",
    "    target = self.data[SELECTED_COLUMN][idx:idx+self.seq_length]\n",
    "    return torch.tensor(seq.values, dtype=torch.float32), torch.tensor(target.values, dtype=torch.float32)\n",
    "\n",
    "  def __len__(self):\n",
    "    return len(self.data) - self.seq_length\n"
   ]
  },
  {
   "attachments": {},
   "cell_type": "markdown",
   "metadata": {},
   "source": [
    "data pre-processing"
   ]
  },
  {
   "cell_type": "code",
   "execution_count": 7,
   "metadata": {},
   "outputs": [],
   "source": [
    "# function that implement the look_ahead mask for masking future time steps. \n",
    "def create_look_ahead_mask(size, device):\n",
    "    mask = torch.ones((size, size), device=device)\n",
    "    mask = torch.triu(mask, diagonal=1)\n",
    "    return mask  # (size, size)"
   ]
  },
  {
   "attachments": {},
   "cell_type": "markdown",
   "metadata": {},
   "source": [
    "# Model fitting"
   ]
  },
  {
   "cell_type": "code",
   "execution_count": 8,
   "metadata": {},
   "outputs": [],
   "source": [
    "from models import *\n",
    "from torch import nn\n",
    "from torch import optim\n",
    "import torch\n",
    "\n",
    "device=\"cuda\"\n",
    "\n",
    "# Evaluation\n",
    "def evaluation(testLoader, model, model_name, LUR, SELECTED_COLUMN, mask=False):\n",
    "    model.to(device)\n",
    "    model.eval()\n",
    "    mse_list = []\n",
    "    total_se = 0.0\n",
    "    total_pe = 0.0\n",
    "    total_valid = 0.0\n",
    "\n",
    "    for x_val, y_val in testLoader:\n",
    "        x_val, y_val = [t.cuda().float() for t in (x_val, y_val)]\n",
    "        \n",
    "        if mask:\n",
    "            masking = create_look_ahead_mask(x_val.shape[1], device)\n",
    "            out, _ = model(x_val.to(device), masking)\n",
    "        else:\n",
    "            out = model(x_val.to(device))\n",
    "\n",
    "        if LUR :\n",
    "            ytrue = y_val.squeeze().cpu().numpy()\n",
    "            ypred = out.squeeze().cpu().detach().numpy()\n",
    "        else:\n",
    "            ytrue = y_val.squeeze().cpu().numpy()\n",
    "            ypred = out.squeeze().cpu().detach().numpy()\n",
    "        true_valid = np.isnan(ytrue) != 1\n",
    "        ytrue = ytrue[true_valid] #np.nan_to_num(ytrue, 0)\n",
    "        ypred = ypred[true_valid]\n",
    "\n",
    "        se = (ytrue - ypred)**2 # np.square(ytrue - ypred)\n",
    "        pe = np.abs((ytrue - ypred) / (ytrue + 0.0001))\n",
    "        total_se += np.sum(se)\n",
    "        total_pe += np.sum(pe)\n",
    "        total_valid += np.sum(true_valid)\n",
    "\n",
    "    eval_mse = total_se / total_valid # np.mean(se) # \n",
    "    eval_mape = total_pe / total_valid # np.mean(pe) # \n",
    "    print('valid samples:', total_valid)\n",
    "    print('Eval MSE: ', eval_mse)\n",
    "    print('Eval RMSE: {}: '.format(SELECTED_COLUMN), np.sqrt(eval_mse))\n",
    "    print('Eval MAPE: {}: '.format(SELECTED_COLUMN), eval_mape*100)\n",
    "    \n",
    "    return eval_mse, eval_mape*100\n",
    "\n",
    "\n",
    "# Train\n",
    "def train(trainLoader, testLoader, model, model_name, SELECTED_COLUMN, mask=False, LUR=False, l1=False, l2=False):\n",
    "\n",
    "    lr = 0.001\n",
    "    n_epochs = 10   \n",
    "    \n",
    "    model.to(device)\n",
    "\n",
    "    criterion = nn.MSELoss()\n",
    "    \n",
    "    # LUR\n",
    "    if LUR:\n",
    "        print(\"set l1,l2 loss\")\n",
    "        l1_lmbda = 0.01\n",
    "        l1_lmbda = torch.FloatTensor([l1_lmbda]).cuda()\n",
    "        l1_reg = torch.tensor(0., requires_grad=True).to(device)\n",
    "        l2_lmbda = 0.01\n",
    "        l2_lmbda = torch.FloatTensor([l2_lmbda]).cuda()\n",
    "        l2_reg = torch.tensor(0., requires_grad=True).to(device)\n",
    "        opt = torch.optim.Adam(model.parameters(), lr=lr)\n",
    "            \n",
    "    # DL\n",
    "    else:\n",
    "        print(\"set SoftDTW loss\")\n",
    "        lmbda = 0.5\n",
    "        dtw_loss = SoftDTW(use_cuda=True, gamma=0.1)\n",
    "        opt = torch.optim.Adam(model.parameters(), lr=lr)\n",
    "    \n",
    "      \n",
    "    print('Start ' + model_name + ' training')\n",
    "    best_mse = 2000.0\n",
    "    mape = 2000.0\n",
    "    best_model = None\n",
    "    \n",
    "\n",
    "    for epoch in range(1, n_epochs + 1):\n",
    "        # print(\"start epoch\")\n",
    "        epoch_loss = 0\n",
    "        batch_idx = 0\n",
    "        bar = tqdm(trainLoader)\n",
    "        # print(\"start tqdm\")\n",
    "        model.train()\n",
    "        # print(\"start batch before\")\n",
    "        for x_batch, y_batch in bar:\n",
    "            # print(\"start batch\")\n",
    "            model.train()\n",
    "            x_batch = x_batch.cuda().float()\n",
    "            y_batch = y_batch.cuda().float()\n",
    "\n",
    "            # print(\"start mask\")\n",
    "            if mask==True:\n",
    "                masking = create_look_ahead_mask(x_batch.shape[1], device)\n",
    "                out, _ = model(x_batch.to(device), masking)\n",
    "            else :\n",
    "                out = model(x_batch.to(device))\n",
    "            opt.zero_grad()\n",
    "            \n",
    "            # print(\"start loss\")\n",
    "            if LUR:\n",
    "                # LASSO\n",
    "                if l1==True and l2==False:\n",
    "                    l1_reg = torch.norm(model.linear.weight, p=1)\n",
    "                    loss = criterion(out, y_batch.unsqueeze(2)) + l1_lmbda * l1_reg\n",
    "                # Ridge\n",
    "                elif l1==False and l2==True:\n",
    "                    l2_reg = torch.norm(model.linear.weight, p=2)\n",
    "                    loss = criterion(out, y_batch.unsqueeze(2)) + l2_lmbda * l2_reg\n",
    "                # Elastic\n",
    "                elif l1==True and l2==True:\n",
    "                    l1_reg = torch.norm(model.linear.weight, p=1)\n",
    "                    l2_reg = torch.norm(model.linear.weight, p=2)\n",
    "                    loss = criterion(out, y_batch.unsqueeze(2)) + l1_lmbda * l1_reg + l2_lmbda * l2_reg\n",
    "                # OLS\n",
    "                else:\n",
    "                    loss = criterion(out, y_batch.unsqueeze(2))\n",
    "            else:\n",
    "                # print(out.shape)\n",
    "                # print(y_batch.shape)\n",
    "                # print(y_batch.unsqueeze(2).shape)\n",
    "                loss = criterion(out, y_batch.unsqueeze(2)) + lmbda * dtw_loss(out.cuda(),y_batch.unsqueeze(2).cuda()).mean()\n",
    "\n",
    "            epoch_loss = (epoch_loss*batch_idx + loss.item())/(batch_idx+1)\n",
    "            loss.backward(retain_graph=True)\n",
    "            opt.step()\n",
    "\n",
    "            bar.set_description(str(epoch_loss))\n",
    "            batch_idx += 1\n",
    "\n",
    "        eval_mse, eval_mape = evaluation(testLoader, model, model_name, LUR, SELECTED_COLUMN, mask)\n",
    "        \n",
    "\n",
    "        if eval_mse < best_mse:\n",
    "            best_model = deepcopy(model)\n",
    "            best_mse = eval_mse\n",
    "            mape = eval_mape\n",
    "            torch.save(best_model.state_dict(), \"./save_gams/\"+SELECTED_COLUMN+\"/\"+model_name+\".pth\")\n",
    "      \n",
    "    print(model_name)   \n",
    "    print(\"Best MSE :\", best_mse)\n",
    "    print(\"RMSE :\", np.sqrt(best_mse))\n",
    "    print(\"MAPE :\", mape)\n",
    "    print()\n"
   ]
  },
  {
   "cell_type": "code",
   "execution_count": 11,
   "metadata": {},
   "outputs": [],
   "source": [
    "from models import *\n",
    "from loss_utils import *\n",
    "\n",
    "\n",
    "train_data = GamsIndoor(train_data, SELECTED_COLUMN, SEQ_LENGTH)\n",
    "test_data = GamsIndoor(test_data, SELECTED_COLUMN, SEQ_LENGTH)\n",
    "trainLoader = DataLoader(train_data, batch_size=32, shuffle=True, num_workers=4, worker_init_fn=seed_worker, generator=g)\n",
    "testLoader = DataLoader(test_data, batch_size=4096, shuffle=False, num_workers=4, worker_init_fn=seed_worker, generator=g)"
   ]
  },
  {
   "cell_type": "code",
   "execution_count": 10,
   "metadata": {},
   "outputs": [
    {
     "name": "stdout",
     "output_type": "stream",
     "text": [
      "set SoftDTW loss\n",
      "Start Transformer training\n"
     ]
    },
    {
     "name": "stderr",
     "output_type": "stream",
     "text": [
      "731.2181280801242: 100%|██████████| 3378/3378 [02:18<00:00, 24.46it/s]\n"
     ]
    },
    {
     "name": "stdout",
     "output_type": "stream",
     "text": [
      "valid samples: 189091.0\n",
      "Eval MSE:  86.75442247383535\n",
      "Eval RMSE: pm25:  9.314205412907498\n",
      "Eval MAPE: pm25:  103.83594499886959\n"
     ]
    },
    {
     "name": "stderr",
     "output_type": "stream",
     "text": [
      "675.4246341937954: 100%|██████████| 3378/3378 [02:25<00:00, 23.30it/s]\n"
     ]
    },
    {
     "name": "stdout",
     "output_type": "stream",
     "text": [
      "valid samples: 189091.0\n",
      "Eval MSE:  87.50575384338758\n",
      "Eval RMSE: pm25:  9.354451017744847\n",
      "Eval MAPE: pm25:  105.09346204753929\n"
     ]
    },
    {
     "name": "stderr",
     "output_type": "stream",
     "text": [
      "675.3428195029609: 100%|██████████| 3378/3378 [02:16<00:00, 24.76it/s]\n"
     ]
    },
    {
     "name": "stdout",
     "output_type": "stream",
     "text": [
      "valid samples: 189091.0\n",
      "Eval MSE:  88.45791708753987\n",
      "Eval RMSE: pm25:  9.405206913595249\n",
      "Eval MAPE: pm25:  106.60259199357056\n"
     ]
    },
    {
     "name": "stderr",
     "output_type": "stream",
     "text": [
      "675.4114950754887: 100%|██████████| 3378/3378 [02:23<00:00, 23.60it/s]\n"
     ]
    },
    {
     "name": "stdout",
     "output_type": "stream",
     "text": [
      "valid samples: 189091.0\n",
      "Eval MSE:  88.40102186248949\n",
      "Eval RMSE: pm25:  9.40218176076646\n",
      "Eval MAPE: pm25:  106.51479892617841\n"
     ]
    },
    {
     "name": "stderr",
     "output_type": "stream",
     "text": [
      "675.429645698688: 100%|██████████| 3378/3378 [02:19<00:00, 24.17it/s] \n"
     ]
    },
    {
     "name": "stdout",
     "output_type": "stream",
     "text": [
      "valid samples: 189091.0\n",
      "Eval MSE:  88.76134176137415\n",
      "Eval RMSE: pm25:  9.421323779669933\n",
      "Eval MAPE: pm25:  107.06562240121819\n"
     ]
    },
    {
     "name": "stderr",
     "output_type": "stream",
     "text": [
      "675.4169355203873: 100%|██████████| 3378/3378 [02:20<00:00, 24.08it/s]\n"
     ]
    },
    {
     "name": "stdout",
     "output_type": "stream",
     "text": [
      "valid samples: 189091.0\n",
      "Eval MSE:  88.35129547413679\n",
      "Eval RMSE: pm25:  9.399536981901651\n",
      "Eval MAPE: pm25:  106.43779297236516\n"
     ]
    },
    {
     "name": "stderr",
     "output_type": "stream",
     "text": [
      "675.4324583163118: 100%|██████████| 3378/3378 [02:21<00:00, 23.85it/s]\n"
     ]
    },
    {
     "name": "stdout",
     "output_type": "stream",
     "text": [
      "valid samples: 189091.0\n",
      "Eval MSE:  86.76181838374116\n",
      "Eval RMSE: pm25:  9.314602427572588\n",
      "Eval MAPE: pm25:  103.8486336853023\n"
     ]
    },
    {
     "name": "stderr",
     "output_type": "stream",
     "text": [
      "675.3401753869981: 100%|██████████| 3378/3378 [02:20<00:00, 23.99it/s]\n"
     ]
    },
    {
     "name": "stdout",
     "output_type": "stream",
     "text": [
      "valid samples: 189091.0\n",
      "Eval MSE:  88.89745149160986\n",
      "Eval RMSE: pm25:  9.42854450546901\n",
      "Eval MAPE: pm25:  107.27113790863261\n"
     ]
    },
    {
     "name": "stderr",
     "output_type": "stream",
     "text": [
      "675.5190717698262: 100%|██████████| 3378/3378 [02:21<00:00, 23.87it/s]\n"
     ]
    },
    {
     "name": "stdout",
     "output_type": "stream",
     "text": [
      "valid samples: 189091.0\n",
      "Eval MSE:  88.08832685056402\n",
      "Eval RMSE: pm25:  9.385538175862054\n",
      "Eval MAPE: pm25:  106.02709351912571\n"
     ]
    },
    {
     "name": "stderr",
     "output_type": "stream",
     "text": [
      "675.7644895121065: 100%|██████████| 3378/3378 [02:20<00:00, 23.97it/s]\n"
     ]
    },
    {
     "name": "stdout",
     "output_type": "stream",
     "text": [
      "valid samples: 189091.0\n",
      "Eval MSE:  88.00202779349625\n",
      "Eval RMSE: pm25:  9.380939600780737\n",
      "Eval MAPE: pm25:  105.89097457540284\n",
      "Transformer\n",
      "Best MSE : 86.75442247383535\n",
      "RMSE : 9.314205412907498\n",
      "MAPE : 103.83594499886959\n",
      "\n",
      "set SoftDTW loss\n",
      "Start CosFormer training\n"
     ]
    },
    {
     "name": "stderr",
     "output_type": "stream",
     "text": [
      "719.0135143995988: 100%|██████████| 3378/3378 [03:47<00:00, 14.83it/s]\n"
     ]
    },
    {
     "name": "stdout",
     "output_type": "stream",
     "text": [
      "valid samples: 189091.0\n",
      "Eval MSE:  88.90577321236864\n",
      "Eval RMSE: pm25:  9.428985799775532\n",
      "Eval MAPE: pm25:  107.28366701168352\n"
     ]
    },
    {
     "name": "stderr",
     "output_type": "stream",
     "text": [
      "675.5218768845373: 100%|██████████| 3378/3378 [03:46<00:00, 14.92it/s]\n"
     ]
    },
    {
     "name": "stdout",
     "output_type": "stream",
     "text": [
      "valid samples: 189091.0\n",
      "Eval MSE:  86.42090845148633\n",
      "Eval RMSE: pm25:  9.29628465847977\n",
      "Eval MAPE: pm25:  103.2562431291349\n"
     ]
    },
    {
     "name": "stderr",
     "output_type": "stream",
     "text": [
      "675.3311085043199: 100%|██████████| 3378/3378 [03:48<00:00, 14.80it/s]\n"
     ]
    },
    {
     "name": "stdout",
     "output_type": "stream",
     "text": [
      "valid samples: 189091.0\n",
      "Eval MSE:  89.73302437715174\n",
      "Eval RMSE: pm25:  9.472751679272065\n",
      "Eval MAPE: pm25:  108.50006990681736\n"
     ]
    },
    {
     "name": "stderr",
     "output_type": "stream",
     "text": [
      "675.4002582647172: 100%|██████████| 3378/3378 [03:45<00:00, 14.95it/s]\n"
     ]
    },
    {
     "name": "stdout",
     "output_type": "stream",
     "text": [
      "valid samples: 189091.0\n",
      "Eval MSE:  85.95511156004252\n",
      "Eval RMSE: pm25:  9.271197957116573\n",
      "Eval MAPE: pm25:  102.42120320044317\n"
     ]
    },
    {
     "name": "stderr",
     "output_type": "stream",
     "text": [
      "675.2801299741649: 100%|██████████| 3378/3378 [03:44<00:00, 15.08it/s]\n"
     ]
    },
    {
     "name": "stdout",
     "output_type": "stream",
     "text": [
      "valid samples: 189091.0\n",
      "Eval MSE:  90.23196503270911\n",
      "Eval RMSE: pm25:  9.499050743769564\n",
      "Eval MAPE: pm25:  109.20994223680663\n"
     ]
    },
    {
     "name": "stderr",
     "output_type": "stream",
     "text": [
      "675.37337691294: 100%|██████████| 3378/3378 [03:45<00:00, 15.00it/s]  \n"
     ]
    },
    {
     "name": "stdout",
     "output_type": "stream",
     "text": [
      "valid samples: 189091.0\n",
      "Eval MSE:  85.45357394058945\n",
      "Eval RMSE: pm25:  9.2441102297944\n",
      "Eval MAPE: pm25:  101.48559113898862\n"
     ]
    },
    {
     "name": "stderr",
     "output_type": "stream",
     "text": [
      "675.3315136933758: 100%|██████████| 3378/3378 [03:46<00:00, 14.91it/s]\n"
     ]
    },
    {
     "name": "stdout",
     "output_type": "stream",
     "text": [
      "valid samples: 189091.0\n",
      "Eval MSE:  86.46920860855356\n",
      "Eval RMSE: pm25:  9.298882116069304\n",
      "Eval MAPE: pm25:  103.341076415423\n"
     ]
    },
    {
     "name": "stderr",
     "output_type": "stream",
     "text": [
      "675.2235503301176: 100%|██████████| 3378/3378 [03:52<00:00, 14.53it/s]\n"
     ]
    },
    {
     "name": "stdout",
     "output_type": "stream",
     "text": [
      "valid samples: 189091.0\n",
      "Eval MSE:  85.32172670830447\n",
      "Eval RMSE: pm25:  9.236976058662513\n",
      "Eval MAPE: pm25:  101.23248828027907\n"
     ]
    },
    {
     "name": "stderr",
     "output_type": "stream",
     "text": [
      "675.3723759399917: 100%|██████████| 3378/3378 [03:43<00:00, 15.09it/s]\n"
     ]
    },
    {
     "name": "stdout",
     "output_type": "stream",
     "text": [
      "valid samples: 189091.0\n",
      "Eval MSE:  87.31376096694184\n",
      "Eval RMSE: pm25:  9.344183269122125\n",
      "Eval MAPE: pm25:  104.77812012057026\n"
     ]
    },
    {
     "name": "stderr",
     "output_type": "stream",
     "text": [
      "675.465824305624: 100%|██████████| 3378/3378 [03:49<00:00, 14.70it/s] \n"
     ]
    },
    {
     "name": "stdout",
     "output_type": "stream",
     "text": [
      "valid samples: 189091.0\n",
      "Eval MSE:  87.3078950743293\n",
      "Eval RMSE: pm25:  9.343869384485707\n",
      "Eval MAPE: pm25:  104.76841600489315\n",
      "CosFormer\n",
      "Best MSE : 85.32172670830447\n",
      "RMSE : 9.236976058662513\n",
      "MAPE : 101.23248828027907\n",
      "\n",
      "set SoftDTW loss\n",
      "Start CosSquareFormer training\n"
     ]
    },
    {
     "name": "stderr",
     "output_type": "stream",
     "text": [
      "675.7259908690833: 100%|██████████| 3378/3378 [03:35<00:00, 15.65it/s]\n"
     ]
    },
    {
     "name": "stdout",
     "output_type": "stream",
     "text": [
      "valid samples: 189091.0\n",
      "Eval MSE:  89.0717825676526\n",
      "Eval RMSE: pm25:  9.437784833723038\n",
      "Eval MAPE: pm25:  107.53207378077883\n"
     ]
    },
    {
     "name": "stderr",
     "output_type": "stream",
     "text": [
      "675.2689112769983: 100%|██████████| 3378/3378 [03:50<00:00, 14.67it/s]\n"
     ]
    },
    {
     "name": "stdout",
     "output_type": "stream",
     "text": [
      "valid samples: 189091.0\n",
      "Eval MSE:  87.35526181838374\n",
      "Eval RMSE: pm25:  9.346403683684102\n",
      "Eval MAPE: pm25:  104.84666505644107\n"
     ]
    },
    {
     "name": "stderr",
     "output_type": "stream",
     "text": [
      "675.3629498253066: 100%|██████████| 3378/3378 [03:30<00:00, 16.03it/s]\n"
     ]
    },
    {
     "name": "stdout",
     "output_type": "stream",
     "text": [
      "valid samples: 189091.0\n",
      "Eval MSE:  87.45128866524584\n",
      "Eval RMSE: pm25:  9.351539374094825\n",
      "Eval MAPE: pm25:  105.00445067206398\n"
     ]
    },
    {
     "name": "stderr",
     "output_type": "stream",
     "text": [
      "675.3092413541485: 100%|██████████| 3378/3378 [03:49<00:00, 14.70it/s]\n"
     ]
    },
    {
     "name": "stdout",
     "output_type": "stream",
     "text": [
      "valid samples: 189091.0\n",
      "Eval MSE:  89.88420390182505\n",
      "Eval RMSE: pm25:  9.480728025938992\n",
      "Eval MAPE: pm25:  108.71675934966498\n"
     ]
    },
    {
     "name": "stderr",
     "output_type": "stream",
     "text": [
      "675.2697631221603: 100%|██████████| 3378/3378 [03:44<00:00, 15.03it/s]\n"
     ]
    },
    {
     "name": "stdout",
     "output_type": "stream",
     "text": [
      "valid samples: 189091.0\n",
      "Eval MSE:  85.81530255273915\n",
      "Eval RMSE: pm25:  9.263654924096599\n",
      "Eval MAPE: pm25:  102.16425846219546\n"
     ]
    },
    {
     "name": "stderr",
     "output_type": "stream",
     "text": [
      "675.3686746492259: 100%|██████████| 3378/3378 [03:52<00:00, 14.55it/s]\n"
     ]
    },
    {
     "name": "stdout",
     "output_type": "stream",
     "text": [
      "valid samples: 189091.0\n",
      "Eval MSE:  87.41560941557239\n",
      "Eval RMSE: pm25:  9.349631512288193\n",
      "Eval MAPE: pm25:  104.94595225893222\n"
     ]
    },
    {
     "name": "stderr",
     "output_type": "stream",
     "text": [
      "675.5572722385857: 100%|██████████| 3378/3378 [03:46<00:00, 14.93it/s]\n"
     ]
    },
    {
     "name": "stdout",
     "output_type": "stream",
     "text": [
      "valid samples: 189091.0\n",
      "Eval MSE:  86.22270692417936\n",
      "Eval RMSE: pm25:  9.28561828443208\n",
      "Eval MAPE: pm25:  102.9044552498863\n"
     ]
    },
    {
     "name": "stderr",
     "output_type": "stream",
     "text": [
      "675.3303115826661: 100%|██████████| 3378/3378 [03:45<00:00, 14.95it/s]\n"
     ]
    },
    {
     "name": "stdout",
     "output_type": "stream",
     "text": [
      "valid samples: 189091.0\n",
      "Eval MSE:  88.09119749221274\n",
      "Eval RMSE: pm25:  9.385691103600882\n",
      "Eval MAPE: pm25:  106.03160730151092\n"
     ]
    },
    {
     "name": "stderr",
     "output_type": "stream",
     "text": [
      "675.40104391167: 100%|██████████| 3378/3378 [03:47<00:00, 14.88it/s]  \n"
     ]
    },
    {
     "name": "stdout",
     "output_type": "stream",
     "text": [
      "valid samples: 189091.0\n",
      "Eval MSE:  89.17515607564611\n",
      "Eval RMSE: pm25:  9.443259822521359\n",
      "Eval MAPE: pm25:  107.68552947059882\n"
     ]
    },
    {
     "name": "stderr",
     "output_type": "stream",
     "text": [
      "675.3747500548901: 100%|██████████| 3378/3378 [03:45<00:00, 14.96it/s]\n"
     ]
    },
    {
     "name": "stdout",
     "output_type": "stream",
     "text": [
      "valid samples: 189091.0\n",
      "Eval MSE:  88.6828276464771\n",
      "Eval RMSE: pm25:  9.417156027510487\n",
      "Eval MAPE: pm25:  106.94663982057581\n",
      "CosSquareFormer\n",
      "Best MSE : 85.81530255273915\n",
      "RMSE : 9.263654924096599\n",
      "MAPE : 102.16425846219546\n",
      "\n"
     ]
    }
   ],
   "source": [
    "# RNN\n",
    "RNNmodel = RNN(1, INPUT_DIM, HIDDEN_DIM, LAYER_DIM).to(device)\n",
    "train(trainLoader, testLoader, RNNmodel, \"RNN\", SELECTED_COLUMN)\n",
    "# LSTM\n",
    "LSTMmodel = LSTM(1, INPUT_DIM, HIDDEN_DIM, LAYER_DIM).to(device)\n",
    "train(trainLoader, testLoader, LSTMmodel, \"LSTM\", SELECTED_COLUMN)\n",
    "# # BiLSTM\n",
    "# # BiLSTMmodel = LSTM(1, INPUT_DIM+1, HIDDEN_DIM, LAYER_DIM, bidirectional=True).to(device)\n",
    "# # train(trainLoader, testLoader, BiLSTMmodel, \"BiLSTM\", SELECTED_COLUMN)\n",
    "# # TransLSTM\n",
    "# TransLSTMmodel = TransLSTM(num_layers=3, D=16, H=5, hidden_mlp_dim=32, inp_features=2, out_features=1, dropout_rate=0.2, LSTM_module = LSTM(1, INPUT_DIM, HIDDEN_DIM, LAYER_DIM, bidirectional = False).to(device), attention_type='regular').to(device) # cosine_square, cosine, regular # 6L, 12H\n",
    "# train(trainLoader, testLoader, TransLSTMmodel, \"TransLSTM\", SELECTED_COLUMN, mask=True)\n",
    "# Transformer\n",
    "Transmodel = Transformer(num_layers=6, D=16, H=10, hidden_mlp_dim=32, inp_features=2, out_features=1, dropout_rate=0.1, attention_type='regular', SL=SEQ_LENGTH).to(device) # cosine_square, cosine, regular # 6L, 12H\n",
    "train(trainLoader, testLoader, Transmodel, \"Transformer\", SELECTED_COLUMN, mask=True)\n",
    "# CosFormer\n",
    "TransCosModel = Transformer(num_layers=6, D=16, H=10, hidden_mlp_dim=32, inp_features=2, out_features=1, dropout_rate=0.1, attention_type='cosine', SL=SEQ_LENGTH).to(device) # cosine_square, cosine, regular # 6L, 12\n",
    "train(trainLoader, testLoader, TransCosModel, \"CosFormer\", SELECTED_COLUMN, mask=True)\n",
    "# CosSquareFormer\n",
    "TransCosSquare = Transformer(num_layers=6, D=16, H=10, hidden_mlp_dim=32, inp_features=2, out_features=1, dropout_rate=0.1, attention_type='cosine_square', SL=SEQ_LENGTH).to(device) # cosine_square, cosine, regular # 6L, 12H\n",
    "train(trainLoader, testLoader, TransCosModel, \"CosSquareFormer\", SELECTED_COLUMN, mask=True)\n"
   ]
  },
  {
   "cell_type": "code",
   "execution_count": 12,
   "metadata": {},
   "outputs": [
    {
     "name": "stdout",
     "output_type": "stream",
     "text": [
      "set l1,l2 loss\n",
      "Start OLS training\n"
     ]
    },
    {
     "name": "stderr",
     "output_type": "stream",
     "text": [
      "159.0960725323563: 100%|██████████| 3378/3378 [00:36<00:00, 91.88it/s]  \n"
     ]
    },
    {
     "name": "stdout",
     "output_type": "stream",
     "text": [
      "valid samples: 189091.0\n",
      "Eval MSE:  89.4088844789017\n",
      "Eval RMSE: pm25:  9.455627133030452\n",
      "Eval MAPE: pm25:  107.30665011737072\n"
     ]
    },
    {
     "name": "stderr",
     "output_type": "stream",
     "text": [
      "155.38744909061822: 100%|██████████| 3378/3378 [00:34<00:00, 96.73it/s] \n"
     ]
    },
    {
     "name": "stdout",
     "output_type": "stream",
     "text": [
      "valid samples: 189091.0\n",
      "Eval MSE:  90.60020505999756\n",
      "Eval RMSE: pm25:  9.518413999191123\n",
      "Eval MAPE: pm25:  110.61226338690761\n"
     ]
    },
    {
     "name": "stderr",
     "output_type": "stream",
     "text": [
      "154.93330879843833: 100%|██████████| 3378/3378 [00:35<00:00, 94.68it/s] \n"
     ]
    },
    {
     "name": "stdout",
     "output_type": "stream",
     "text": [
      "valid samples: 189091.0\n",
      "Eval MSE:  90.67052900455336\n",
      "Eval RMSE: pm25:  9.522107382536355\n",
      "Eval MAPE: pm25:  111.43133361549467\n"
     ]
    },
    {
     "name": "stderr",
     "output_type": "stream",
     "text": [
      "154.667471764284: 100%|██████████| 3378/3378 [00:42<00:00, 79.49it/s]  \n"
     ]
    },
    {
     "name": "stdout",
     "output_type": "stream",
     "text": [
      "valid samples: 189091.0\n",
      "Eval MSE:  92.0904835502483\n",
      "Eval RMSE: pm25:  9.59637866855244\n",
      "Eval MAPE: pm25:  113.64313346483968\n"
     ]
    },
    {
     "name": "stderr",
     "output_type": "stream",
     "text": [
      "154.45515929290403: 100%|██████████| 3378/3378 [00:53<00:00, 63.62it/s]\n"
     ]
    },
    {
     "name": "stdout",
     "output_type": "stream",
     "text": [
      "valid samples: 189091.0\n",
      "Eval MSE:  91.95444256997953\n",
      "Eval RMSE: pm25:  9.589287907346382\n",
      "Eval MAPE: pm25:  113.69812672453344\n"
     ]
    },
    {
     "name": "stderr",
     "output_type": "stream",
     "text": [
      "154.22912753157712: 100%|██████████| 3378/3378 [00:57<00:00, 58.89it/s]\n"
     ]
    },
    {
     "name": "stdout",
     "output_type": "stream",
     "text": [
      "valid samples: 189091.0\n",
      "Eval MSE:  91.60432410849802\n",
      "Eval RMSE: pm25:  9.571014789900705\n",
      "Eval MAPE: pm25:  113.38286639683406\n"
     ]
    },
    {
     "name": "stderr",
     "output_type": "stream",
     "text": [
      "154.02234674389308: 100%|██████████| 3378/3378 [00:57<00:00, 58.75it/s]\n"
     ]
    },
    {
     "name": "stdout",
     "output_type": "stream",
     "text": [
      "valid samples: 189091.0\n",
      "Eval MSE:  88.9953587161737\n",
      "Eval RMSE: pm25:  9.433735141298683\n",
      "Eval MAPE: pm25:  110.06451744381674\n"
     ]
    },
    {
     "name": "stderr",
     "output_type": "stream",
     "text": [
      "153.79669995756853: 100%|██████████| 3378/3378 [00:58<00:00, 58.08it/s]\n"
     ]
    },
    {
     "name": "stdout",
     "output_type": "stream",
     "text": [
      "valid samples: 189091.0\n",
      "Eval MSE:  92.19018290135438\n",
      "Eval RMSE: pm25:  9.601571897421504\n",
      "Eval MAPE: pm25:  114.30278041144872\n"
     ]
    },
    {
     "name": "stderr",
     "output_type": "stream",
     "text": [
      "153.64365233155368: 100%|██████████| 3378/3378 [00:57<00:00, 59.18it/s]\n"
     ]
    },
    {
     "name": "stdout",
     "output_type": "stream",
     "text": [
      "valid samples: 189091.0\n",
      "Eval MSE:  90.84806191198946\n",
      "Eval RMSE: pm25:  9.531424967547585\n",
      "Eval MAPE: pm25:  112.7165339910744\n"
     ]
    },
    {
     "name": "stderr",
     "output_type": "stream",
     "text": [
      "153.50648971927995: 100%|██████████| 3378/3378 [00:57<00:00, 58.35it/s]\n"
     ]
    },
    {
     "name": "stdout",
     "output_type": "stream",
     "text": [
      "valid samples: 189091.0\n",
      "Eval MSE:  91.16257317905135\n",
      "Eval RMSE: pm25:  9.5479093616902\n",
      "Eval MAPE: pm25:  113.1998578272168\n",
      "OLS\n",
      "Best MSE : 88.9953587161737\n",
      "RMSE : 9.433735141298683\n",
      "MAPE : 110.06451744381674\n",
      "\n",
      "set l1,l2 loss\n",
      "Start LASSO training\n"
     ]
    },
    {
     "name": "stderr",
     "output_type": "stream",
     "text": [
      "318.27151357809987: 100%|██████████| 3378/3378 [00:57<00:00, 58.48it/s]\n"
     ]
    },
    {
     "name": "stdout",
     "output_type": "stream",
     "text": [
      "valid samples: 189091.0\n",
      "Eval MSE:  93.66854120502826\n",
      "Eval RMSE: pm25:  9.678250937283465\n",
      "Eval MAPE: pm25:  116.09760334475199\n"
     ]
    },
    {
     "name": "stderr",
     "output_type": "stream",
     "text": [
      "155.30105510867463: 100%|██████████| 3378/3378 [00:57<00:00, 58.38it/s]\n"
     ]
    },
    {
     "name": "stdout",
     "output_type": "stream",
     "text": [
      "valid samples: 189091.0\n",
      "Eval MSE:  88.75000859374587\n",
      "Eval RMSE: pm25:  9.420722296817049\n",
      "Eval MAPE: pm25:  109.67743942979173\n"
     ]
    },
    {
     "name": "stderr",
     "output_type": "stream",
     "text": [
      "155.0873063574752: 100%|██████████| 3378/3378 [00:58<00:00, 58.17it/s] \n"
     ]
    },
    {
     "name": "stdout",
     "output_type": "stream",
     "text": [
      "valid samples: 189091.0\n",
      "Eval MSE:  95.12560288432553\n",
      "Eval RMSE: pm25:  9.75323550850309\n",
      "Eval MAPE: pm25:  117.55152415454066\n"
     ]
    },
    {
     "name": "stderr",
     "output_type": "stream",
     "text": [
      "154.87208235849624: 100%|██████████| 3378/3378 [00:58<00:00, 58.11it/s]\n"
     ]
    },
    {
     "name": "stdout",
     "output_type": "stream",
     "text": [
      "valid samples: 189091.0\n",
      "Eval MSE:  88.1941809763553\n",
      "Eval RMSE: pm25:  9.391175697235958\n",
      "Eval MAPE: pm25:  108.7628319499606\n"
     ]
    },
    {
     "name": "stderr",
     "output_type": "stream",
     "text": [
      "154.6402328010141: 100%|██████████| 3378/3378 [00:57<00:00, 58.38it/s] \n"
     ]
    },
    {
     "name": "stdout",
     "output_type": "stream",
     "text": [
      "valid samples: 189091.0\n",
      "Eval MSE:  95.08194533319936\n",
      "Eval RMSE: pm25:  9.750997145584618\n",
      "Eval MAPE: pm25:  117.51317766230942\n"
     ]
    },
    {
     "name": "stderr",
     "output_type": "stream",
     "text": [
      "154.43378838877325: 100%|██████████| 3378/3378 [00:58<00:00, 58.13it/s]\n"
     ]
    },
    {
     "name": "stdout",
     "output_type": "stream",
     "text": [
      "valid samples: 189091.0\n",
      "Eval MSE:  87.0618835639983\n",
      "Eval RMSE: pm25:  9.330695770627091\n",
      "Eval MAPE: pm25:  107.1832059159016\n"
     ]
    },
    {
     "name": "stderr",
     "output_type": "stream",
     "text": [
      "154.21223898707547: 100%|██████████| 3378/3378 [00:58<00:00, 57.80it/s]\n"
     ]
    },
    {
     "name": "stdout",
     "output_type": "stream",
     "text": [
      "valid samples: 189091.0\n",
      "Eval MSE:  89.02472685109286\n",
      "Eval RMSE: pm25:  9.435291561530724\n",
      "Eval MAPE: pm25:  110.10307568098825\n"
     ]
    },
    {
     "name": "stderr",
     "output_type": "stream",
     "text": [
      "153.9766319674663: 100%|██████████| 3378/3378 [00:57<00:00, 58.90it/s] \n"
     ]
    },
    {
     "name": "stdout",
     "output_type": "stream",
     "text": [
      "valid samples: 189091.0\n",
      "Eval MSE:  87.44043145892718\n",
      "Eval RMSE: pm25:  9.350958852381245\n",
      "Eval MAPE: pm25:  107.91771347856323\n"
     ]
    },
    {
     "name": "stderr",
     "output_type": "stream",
     "text": [
      "153.80158563278496: 100%|██████████| 3378/3378 [00:57<00:00, 58.73it/s]\n"
     ]
    },
    {
     "name": "stdout",
     "output_type": "stream",
     "text": [
      "valid samples: 189091.0\n",
      "Eval MSE:  90.387848972188\n",
      "Eval RMSE: pm25:  9.507252440752165\n",
      "Eval MAPE: pm25:  112.06399496059436\n"
     ]
    },
    {
     "name": "stderr",
     "output_type": "stream",
     "text": [
      "153.6250793723543: 100%|██████████| 3378/3378 [00:58<00:00, 57.76it/s] \n"
     ]
    },
    {
     "name": "stdout",
     "output_type": "stream",
     "text": [
      "valid samples: 189091.0\n",
      "Eval MSE:  89.77058797087116\n",
      "Eval RMSE: pm25:  9.474734189985023\n",
      "Eval MAPE: pm25:  111.34528357047664\n",
      "LASSO\n",
      "Best MSE : 87.0618835639983\n",
      "RMSE : 9.330695770627091\n",
      "MAPE : 107.1832059159016\n",
      "\n",
      "set l1,l2 loss\n",
      "Start Ridge training\n"
     ]
    },
    {
     "name": "stderr",
     "output_type": "stream",
     "text": [
      "373.2450373001952: 100%|██████████| 3378/3378 [00:58<00:00, 57.77it/s] \n"
     ]
    },
    {
     "name": "stdout",
     "output_type": "stream",
     "text": [
      "valid samples: 189091.0\n",
      "Eval MSE:  92.01078052366321\n",
      "Eval RMSE: pm25:  9.592225003807156\n",
      "Eval MAPE: pm25:  112.12359599676876\n"
     ]
    },
    {
     "name": "stderr",
     "output_type": "stream",
     "text": [
      "155.04918368346864: 100%|██████████| 3378/3378 [00:57<00:00, 58.77it/s]\n"
     ]
    },
    {
     "name": "stdout",
     "output_type": "stream",
     "text": [
      "valid samples: 189091.0\n",
      "Eval MSE:  90.72277699626106\n",
      "Eval RMSE: pm25:  9.524850497318111\n",
      "Eval MAPE: pm25:  111.03996699175265\n"
     ]
    },
    {
     "name": "stderr",
     "output_type": "stream",
     "text": [
      "154.77420808691576: 100%|██████████| 3378/3378 [00:57<00:00, 58.70it/s]\n"
     ]
    },
    {
     "name": "stdout",
     "output_type": "stream",
     "text": [
      "valid samples: 189091.0\n",
      "Eval MSE:  91.14151916273117\n",
      "Eval RMSE: pm25:  9.546806752141324\n",
      "Eval MAPE: pm25:  112.17679045737236\n"
     ]
    },
    {
     "name": "stderr",
     "output_type": "stream",
     "text": [
      "154.5124540470138: 100%|██████████| 3378/3378 [00:58<00:00, 58.05it/s] \n"
     ]
    },
    {
     "name": "stdout",
     "output_type": "stream",
     "text": [
      "valid samples: 189091.0\n",
      "Eval MSE:  94.65106747544833\n",
      "Eval RMSE: pm25:  9.72887801729718\n",
      "Eval MAPE: pm25:  116.79737079303088\n"
     ]
    },
    {
     "name": "stderr",
     "output_type": "stream",
     "text": [
      "154.28679100136057: 100%|██████████| 3378/3378 [00:57<00:00, 58.70it/s]\n"
     ]
    },
    {
     "name": "stdout",
     "output_type": "stream",
     "text": [
      "valid samples: 189091.0\n",
      "Eval MSE:  87.84325205853267\n",
      "Eval RMSE: pm25:  9.372473102577178\n",
      "Eval MAPE: pm25:  108.2144213343377\n"
     ]
    },
    {
     "name": "stderr",
     "output_type": "stream",
     "text": [
      "154.0903702595309: 100%|██████████| 3378/3378 [00:58<00:00, 58.17it/s] \n"
     ]
    },
    {
     "name": "stdout",
     "output_type": "stream",
     "text": [
      "valid samples: 189091.0\n",
      "Eval MSE:  90.16118099222068\n",
      "Eval RMSE: pm25:  9.495324164672878\n",
      "Eval MAPE: pm25:  111.59004471144185\n"
     ]
    },
    {
     "name": "stderr",
     "output_type": "stream",
     "text": [
      "153.93577223349143: 100%|██████████| 3378/3378 [00:58<00:00, 57.64it/s]\n"
     ]
    },
    {
     "name": "stdout",
     "output_type": "stream",
     "text": [
      "valid samples: 189091.0\n",
      "Eval MSE:  89.09795944809642\n",
      "Eval RMSE: pm25:  9.439171544584642\n",
      "Eval MAPE: pm25:  110.29818624861838\n"
     ]
    },
    {
     "name": "stderr",
     "output_type": "stream",
     "text": [
      "153.6913979520738: 100%|██████████| 3378/3378 [00:58<00:00, 58.10it/s] \n"
     ]
    },
    {
     "name": "stdout",
     "output_type": "stream",
     "text": [
      "valid samples: 189091.0\n",
      "Eval MSE:  90.17186367939246\n",
      "Eval RMSE: pm25:  9.495886671574828\n",
      "Eval MAPE: pm25:  111.82856609053313\n"
     ]
    },
    {
     "name": "stderr",
     "output_type": "stream",
     "text": [
      "153.5015164133073: 100%|██████████| 3378/3378 [00:57<00:00, 58.30it/s] \n"
     ]
    },
    {
     "name": "stdout",
     "output_type": "stream",
     "text": [
      "valid samples: 189091.0\n",
      "Eval MSE:  93.07289677985732\n",
      "Eval RMSE: pm25:  9.647429542622081\n",
      "Eval MAPE: pm25:  115.49234954168892\n"
     ]
    },
    {
     "name": "stderr",
     "output_type": "stream",
     "text": [
      "153.30698849422268: 100%|██████████| 3378/3378 [00:57<00:00, 58.49it/s]\n"
     ]
    },
    {
     "name": "stdout",
     "output_type": "stream",
     "text": [
      "valid samples: 189091.0\n",
      "Eval MSE:  92.53785214526339\n",
      "Eval RMSE: pm25:  9.619659668889716\n",
      "Eval MAPE: pm25:  114.93036969055244\n",
      "Ridge\n",
      "Best MSE : 87.84325205853267\n",
      "RMSE : 9.372473102577178\n",
      "MAPE : 108.2144213343377\n",
      "\n",
      "set l1,l2 loss\n",
      "Start Elastic training\n"
     ]
    },
    {
     "name": "stderr",
     "output_type": "stream",
     "text": [
      "156.10595718821958: 100%|██████████| 3378/3378 [00:57<00:00, 59.01it/s]\n"
     ]
    },
    {
     "name": "stdout",
     "output_type": "stream",
     "text": [
      "valid samples: 189091.0\n",
      "Eval MSE:  89.97468150255698\n",
      "Eval RMSE: pm25:  9.48549848466368\n",
      "Eval MAPE: pm25:  109.40453222175435\n"
     ]
    },
    {
     "name": "stderr",
     "output_type": "stream",
     "text": [
      "155.46711240850829: 100%|██████████| 3378/3378 [00:50<00:00, 66.38it/s]\n"
     ]
    },
    {
     "name": "stdout",
     "output_type": "stream",
     "text": [
      "valid samples: 189091.0\n",
      "Eval MSE:  88.08174899915913\n",
      "Eval RMSE: pm25:  9.385187744481147\n",
      "Eval MAPE: pm25:  107.45935592023153\n"
     ]
    },
    {
     "name": "stderr",
     "output_type": "stream",
     "text": [
      "155.1894802174813: 100%|██████████| 3378/3378 [00:47<00:00, 71.29it/s] \n"
     ]
    },
    {
     "name": "stdout",
     "output_type": "stream",
     "text": [
      "valid samples: 189091.0\n",
      "Eval MSE:  91.02717937395222\n",
      "Eval RMSE: pm25:  9.540816494092747\n",
      "Eval MAPE: pm25:  112.0579597133457\n"
     ]
    },
    {
     "name": "stderr",
     "output_type": "stream",
     "text": [
      "154.96111551243058: 100%|██████████| 3378/3378 [00:46<00:00, 72.79it/s]\n"
     ]
    },
    {
     "name": "stdout",
     "output_type": "stream",
     "text": [
      "valid samples: 189091.0\n",
      "Eval MSE:  94.21815488309862\n",
      "Eval RMSE: pm25:  9.706603673947887\n",
      "Eval MAPE: pm25:  116.22343045147574\n"
     ]
    },
    {
     "name": "stderr",
     "output_type": "stream",
     "text": [
      "154.7307549245687: 100%|██████████| 3378/3378 [00:47<00:00, 71.70it/s] \n"
     ]
    },
    {
     "name": "stdout",
     "output_type": "stream",
     "text": [
      "valid samples: 189091.0\n",
      "Eval MSE:  91.38845978920203\n",
      "Eval RMSE: pm25:  9.559731156742957\n",
      "Eval MAPE: pm25:  112.90590317211687\n"
     ]
    },
    {
     "name": "stderr",
     "output_type": "stream",
     "text": [
      "154.50825820412402: 100%|██████████| 3378/3378 [00:44<00:00, 76.50it/s]\n"
     ]
    },
    {
     "name": "stdout",
     "output_type": "stream",
     "text": [
      "valid samples: 189091.0\n",
      "Eval MSE:  90.35767897467358\n",
      "Eval RMSE: pm25:  9.5056656250193\n",
      "Eval MAPE: pm25:  111.69775213224055\n"
     ]
    },
    {
     "name": "stderr",
     "output_type": "stream",
     "text": [
      "154.29952070372852: 100%|██████████| 3378/3378 [00:43<00:00, 77.00it/s]\n"
     ]
    },
    {
     "name": "stdout",
     "output_type": "stream",
     "text": [
      "valid samples: 189091.0\n",
      "Eval MSE:  91.02355347425313\n",
      "Eval RMSE: pm25:  9.54062647179173\n",
      "Eval MAPE: pm25:  112.68245596696829\n"
     ]
    },
    {
     "name": "stderr",
     "output_type": "stream",
     "text": [
      "154.16044423254104: 100%|██████████| 3378/3378 [00:44<00:00, 76.34it/s]\n"
     ]
    },
    {
     "name": "stdout",
     "output_type": "stream",
     "text": [
      "valid samples: 189091.0\n",
      "Eval MSE:  89.55077912222157\n",
      "Eval RMSE: pm25:  9.463127343654506\n",
      "Eval MAPE: pm25:  110.84618370338224\n"
     ]
    },
    {
     "name": "stderr",
     "output_type": "stream",
     "text": [
      "153.9041384679458: 100%|██████████| 3378/3378 [00:43<00:00, 78.53it/s] \n"
     ]
    },
    {
     "name": "stdout",
     "output_type": "stream",
     "text": [
      "valid samples: 189091.0\n",
      "Eval MSE:  89.05481553855022\n",
      "Eval RMSE: pm25:  9.43688590259256\n",
      "Eval MAPE: pm25:  110.2662463319579\n"
     ]
    },
    {
     "name": "stderr",
     "output_type": "stream",
     "text": [
      "153.71889442660677: 100%|██████████| 3378/3378 [00:43<00:00, 77.78it/s]\n"
     ]
    },
    {
     "name": "stdout",
     "output_type": "stream",
     "text": [
      "valid samples: 189091.0\n",
      "Eval MSE:  87.13915059415837\n",
      "Eval RMSE: pm25:  9.334835327640139\n",
      "Eval MAPE: pm25:  107.61487483209142\n",
      "Elastic\n",
      "Best MSE : 87.13915059415837\n",
      "RMSE : 9.334835327640139\n",
      "MAPE : 107.61487483209142\n",
      "\n"
     ]
    }
   ],
   "source": [
    "OLS = LinearRegression(input_dim=2)\n",
    "train(trainLoader, testLoader, OLS, \"OLS\", SELECTED_COLUMN, LUR=True)\n",
    "LASSO = LinearRegression(input_dim=2)\n",
    "train(trainLoader, testLoader, LASSO, \"LASSO\", SELECTED_COLUMN, LUR=True, l1=True)\n",
    "Ridge = LinearRegression(input_dim=2)\n",
    "train(trainLoader, testLoader, Ridge, \"Ridge\", SELECTED_COLUMN, LUR=True, l2=True)\n",
    "Elastic = LinearRegression(input_dim=2)\n",
    "train(trainLoader, testLoader, Elastic, \"Elastic\", SELECTED_COLUMN, LUR=True, l1=True, l2=True)"
   ]
  },
  {
   "cell_type": "code",
   "execution_count": null,
   "metadata": {},
   "outputs": [],
   "source": []
  }
 ],
 "metadata": {
  "kernelspec": {
   "display_name": "ma",
   "language": "python",
   "name": "python3"
  },
  "language_info": {
   "codemirror_mode": {
    "name": "ipython",
    "version": 3
   },
   "file_extension": ".py",
   "mimetype": "text/x-python",
   "name": "python",
   "nbconvert_exporter": "python",
   "pygments_lexer": "ipython3",
   "version": "3.9.16"
  },
  "orig_nbformat": 4
 },
 "nbformat": 4,
 "nbformat_minor": 2
}
